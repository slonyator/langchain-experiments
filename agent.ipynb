{
 "cells": [
  {
   "cell_type": "markdown",
   "metadata": {},
   "source": [
    "# Building Custom LangChain Tools for Efficient Data Processing\n",
    "This notebook demonstrates how to build and integrate custom tools using LangChain to enhance data processing tasks. Although we use an insurance claim document as our example for demonstration purposes, the methodologies and tools developed here can be applied to any textual data. You will learn to create tools that analyze text for damage detection, cost calculation, and online price checking, and see how these tools can be integrated into an agent to streamline the handling of diverse data types.\n"
   ]
  },
  {
   "cell_type": "markdown",
   "metadata": {},
   "source": [
    "## Initial Setup: Importing Libraries and Defining Tools\n",
    "Begin by importing the necessary libraries. Then, dive into creating specialized tools:\n",
    "- `damage_detector`: Detects and classifies damage described in text.\n",
    "- `calculator`: Provides cost estimates for repairs.\n",
    "- `online_checker`: Checks and compares repair costs with online prices.\n",
    "\n"
   ]
  },
  {
   "cell_type": "code",
   "execution_count": 1,
   "metadata": {},
   "outputs": [],
   "source": [
    "import os\n",
    "\n",
    "from dotenv import load_dotenv, find_dotenv\n",
    "from langchain.agents import AgentExecutor\n",
    "from langchain.agents import tool\n",
    "from langchain.agents.format_scratchpad.openai_tools import (\n",
    "    format_to_openai_tool_messages,\n",
    ")\n",
    "from langchain.agents.output_parsers.openai_tools import (\n",
    "    OpenAIToolsAgentOutputParser,\n",
    ")\n",
    "from langchain_community.document_loaders import PyPDFLoader\n",
    "from langchain_community.tools.ddg_search import DuckDuckGoSearchRun\n",
    "from langchain_community.tools.ddg_search.tool import DuckDuckGoSearchResults\n",
    "from langchain_core.prompts import ChatPromptTemplate, MessagesPlaceholder\n",
    "from langchain_core.prompts import PromptTemplate\n",
    "from langchain_openai import ChatOpenAI\n",
    "from pyprojroot import here"
   ]
  },
  {
   "cell_type": "code",
   "execution_count": 2,
   "metadata": {},
   "outputs": [],
   "source": [
    "@tool\n",
    "def damage_detector(text: str) -> str:\n",
    "    \"\"\"\n",
    "    Identifies and lists damaged items from a text description,\n",
    "    including the extent of damage when available.\n",
    "    \"\"\"\n",
    "\n",
    "    template = (\n",
    "        \"text: {text} \\n\\n Instruction: \"\n",
    "        \"Create a list of all damaged objects. Indicate, if applicable, \"\n",
    "        \"the extent of the damage for each item.\"\n",
    "    )\n",
    "\n",
    "    prompt = PromptTemplate(\n",
    "        input_variables=[\"text\"],\n",
    "        template=template,\n",
    "    )\n",
    "\n",
    "    summary_chain = prompt | ChatOpenAI(\n",
    "        openai_api_key=api_key,\n",
    "        temperature=0,\n",
    "        model_name=\"gpt-4\",\n",
    "    )\n",
    "\n",
    "    summary = summary_chain.invoke({\"text\": text})\n",
    "\n",
    "    return summary.content"
   ]
  },
  {
   "cell_type": "code",
   "execution_count": 3,
   "metadata": {},
   "outputs": [],
   "source": [
    "@tool\n",
    "def calculator(text: str) -> str:\n",
    "    \"\"\"\n",
    "    Estimates the total costs for damaged objects to interpret\n",
    "    and compute values based on textual descriptions.\n",
    "    \"\"\"\n",
    "\n",
    "    template = (\n",
    "        \"text: {text} \\n\\n Instruction: Calculate the total costs\"\n",
    "        \"of the damaged objects\"\n",
    "    )\n",
    "\n",
    "    prompt = PromptTemplate(\n",
    "        input_variables=[\"text\"],\n",
    "        template=template,\n",
    "    )\n",
    "\n",
    "    calculator_chain = prompt | ChatOpenAI(\n",
    "        openai_api_key=api_key,\n",
    "        temperature=0,\n",
    "        model_name=\"gpt-4\",\n",
    "    )\n",
    "\n",
    "    cost = calculator_chain.invoke({\"text\": text})\n",
    "\n",
    "    return cost.content"
   ]
  },
  {
   "cell_type": "code",
   "execution_count": 4,
   "metadata": {},
   "outputs": [],
   "source": [
    "@tool\n",
    "def online_checker(text: str) -> str:\n",
    "    \"\"\"\n",
    "    Checks on the web weather the price for an item is supposed to be in a reasonable range\n",
    "    \"\"\"\n",
    "\n",
    "    search_engine = DuckDuckGoSearchRun()\n",
    "\n",
    "    result = search_engine.run(text)\n",
    "\n",
    "    return result"
   ]
  },
  {
   "cell_type": "markdown",
   "metadata": {},
   "source": [
    "## Configuring Environment and Loading Data\n",
    "Securely load API keys and environmental variables using the `dotenv` package, crucial for maintaining security. The dataset consists of descriptions from `damage_report.pdf`, setting the stage for our tool's operations.\n",
    "\n"
   ]
  },
  {
   "cell_type": "code",
   "execution_count": 5,
   "metadata": {},
   "outputs": [],
   "source": [
    "load_dotenv(find_dotenv())\n",
    "api_key = os.getenv(\"OPENAI_API_KEY\")"
   ]
  },
  {
   "cell_type": "code",
   "execution_count": 6,
   "metadata": {},
   "outputs": [
    {
     "name": "stdout",
     "output_type": "stream",
     "text": [
      "[Document(page_content='Property Damage Report - Storm Damage\\nDear Sir/Madam,\\nI am writing to report damage incurred to my property during the storm on February 22, 2024. As a\\nholder of a home contents insurance policy, I am seeking prompt attention to this matter.\\nA severe storm caused significant damage to my residence in the southern part of Cologne,\\nspecifically at Mainzer Straße 45, 50678 Köln. The damage includes broken windows allowing water\\nto enter and damage various household items including furniture and electronic devices.\\nThe following items were affected: \\n- Oak living room table, water damage, estimated current value: EUR 200\\n- 55-inch Samsung television, water damage, estimated replacement value: EUR 800\\n- Lenovo laptop, water damage, estimated replacement value: EUR 1200\\n- Various books and decorative items, estimated current value: EUR 150\\nI have taken all necessary measures to prevent further damage and ensure safety. I also have\\nphotos of the damaged items and the overall damage, which I can provide to support my claim.\\nI kindly request a prompt processing of my damage report and information about the next steps I\\nneed to take. I am available for any queries and can be contacted at my phone number\\n0221/1234567 or via email.\\nThank you for your support in this matter.', metadata={'source': '/Users/michael/Coding/langchain-experiments/damage_report.pdf', 'page': 0}), Document(page_content='Sincerely,\\nMax Mustermann\\nMainzer Straße 45\\n50678 Köln\\nEmail: max.mustermann@email.de\\nPhone: 0221/1234567', metadata={'source': '/Users/michael/Coding/langchain-experiments/damage_report.pdf', 'page': 1})]\n"
     ]
    }
   ],
   "source": [
    "data = PyPDFLoader(str(here(\"./damage_report.pdf\"))).load()\n",
    "print(data)"
   ]
  },
  {
   "cell_type": "markdown",
   "metadata": {},
   "source": [
    "## Integrating Tools with LangChain Agent\n",
    "Define the custom agent and integrate it with the tools outlined above:\n",
    "- `damage_detector`: Extracts and details damage from claim texts.\n",
    "- `calculator`: Calculates estimated repair costs.\n",
    "- `online_checker`: Verifies cost estimates against current market values.\n",
    "\n"
   ]
  },
  {
   "cell_type": "code",
   "execution_count": 7,
   "metadata": {},
   "outputs": [],
   "source": [
    "tools = [damage_detector, calculator, online_checker,]\n",
    "llm = ChatOpenAI(model_name=\"gpt-4\", openai_api_key=api_key, temperature=0)"
   ]
  },
  {
   "cell_type": "code",
   "execution_count": 8,
   "metadata": {},
   "outputs": [],
   "source": [
    "prompt = ChatPromptTemplate.from_messages(\n",
    "    [\n",
    "        (\n",
    "            \"system\",\n",
    "            \"I am a dedicated assistant for insurance claims handling. \"\n",
    "            \"I help process relevant information and provide cost overviews for claims. \"\n",
    "            \"However, I do not have access to current events. \"\n",
    "            \"It is essential for the claims handler to verify the plausibility of the \"\n",
    "            \"provided cost estimations to ensure they are realistic.\"\n",
    "        ),\n",
    "        (\"user\", \"{input}\"),\n",
    "        MessagesPlaceholder(variable_name=\"agent_scratchpad\"),\n",
    "    ]\n",
    ")"
   ]
  },
  {
   "cell_type": "code",
   "execution_count": 9,
   "metadata": {},
   "outputs": [],
   "source": [
    "llm_with_tools = llm.bind_tools(tools)\n",
    "\n",
    "agent = (\n",
    "    {\n",
    "        \"input\": lambda x: x[\"input\"],\n",
    "        \"agent_scratchpad\": lambda x: format_to_openai_tool_messages(\n",
    "            x[\"intermediate_steps\"]\n",
    "        ),\n",
    "    }\n",
    "    | prompt\n",
    "    | llm_with_tools\n",
    "    | OpenAIToolsAgentOutputParser()\n",
    ")"
   ]
  },
  {
   "cell_type": "markdown",
   "metadata": {},
   "source": [
    "## Running the Agent to Process Claims\n",
    "Execute the agent to process a sample insurance claim. This demonstration uses the `AgentExecutor` class to manage tool interactions and outputs, providing a detailed claim analysis."
   ]
  },
  {
   "cell_type": "code",
   "execution_count": 10,
   "metadata": {},
   "outputs": [
    {
     "name": "stdout",
     "output_type": "stream",
     "text": [
      "\n",
      "\n",
      "\u001b[1m> Entering new AgentExecutor chain...\u001b[0m\n",
      "\u001b[32;1m\u001b[1;3m\n",
      "Invoking: `damage_detector` with `{'text': 'Oak living room table, water damage, estimated current value: EUR 200\\n55-inch Samsung television, water damage, estimated replacement value: EUR 800\\nLenovo laptop, water damage, estimated replacement value: EUR 1200\\nVarious books and decorative items, estimated current value: EUR 150'}`\n",
      "\n",
      "\n",
      "\u001b[0m\u001b[36;1m\u001b[1;3m1. Oak living room table - Extent of damage: Water damage\n",
      "2. 55-inch Samsung television - Extent of damage: Water damage\n",
      "3. Lenovo laptop - Extent of damage: Water damage\n",
      "4. Various books and decorative items - Extent of damage: Not specified\u001b[0m\u001b[32;1m\u001b[1;3m\n",
      "Invoking: `calculator` with `{'text': 'Oak living room table, water damage, estimated current value: EUR 200\\n55-inch Samsung television, water damage, estimated replacement value: EUR 800\\nLenovo laptop, water damage, estimated replacement value: EUR 1200\\nVarious books and decorative items, estimated current value: EUR 150'}`\n",
      "\n",
      "\n",
      "\u001b[0m\u001b[33;1m\u001b[1;3mThe total cost of the damaged objects is EUR 2350.\u001b[0m\u001b[32;1m\u001b[1;3m\n",
      "Invoking: `online_checker` with `{'text': 'Oak living room table, estimated current value: EUR 200\\n55-inch Samsung television, estimated replacement value: EUR 800\\nLenovo laptop, estimated replacement value: EUR 1200\\nVarious books and decorative items, estimated current value: EUR 150'}`\n",
      "\n",
      "\n",
      "\u001b[0m\u001b[38;5;200m\u001b[1;3mSpreader: $5-$25. Sprinkler: $2.50-$10. Wheelbarrow: $10-$40. Patio Set (Table and Four Chairs): $75-$250. Bricks and Blocks: 25 cents to $4. Download our Donation Value Guide as a PDF. While you don't need to submit a receipt when claiming your donation tax deductions on your tax return, you will need one if you are ever audited, and ... The LG B3 OLED is now our 'Best Mid-Range 55-Inch TV', as it's a bit better than the Hisense U8K and a better value than the Sony A75L OLED. Our recommendations are based on what we think are the best 55-inch 4k TVs currently available. They are adapted to be valid for most people, in each price range. If you're dead set against spending more than $500 on a new 55-inch TV (and we don't blame you), the Roku Plus Series 4K QLED TV is an outstanding bargain that won't let you down. Read our full ... 2. LG OLED C2. The best 55-inch OLED TV for most people is the LG C2. This is a great OLED set released in 2022 and as a result it's very fairly priced - cheaper than the newer and very similar LG ... The QN90D, Samsung's flagship QLED TV, offers impressive brightness, deep blacks, and very wide, accurate colors. It's also loaded with features such as hands-free Amazon Alexa (or Samsung Bixby ...\u001b[0m\u001b[32;1m\u001b[1;3mBased on the information provided, the estimated costs for the damaged items seem to be within a reasonable range. The total cost of the damaged objects is EUR 2350. The damaged items include:\n",
      "\n",
      "1. Oak living room table - Extent of damage: Water damage\n",
      "2. 55-inch Samsung television - Extent of damage: Water damage\n",
      "3. Lenovo laptop - Extent of damage: Water damage\n",
      "4. Various books and decorative items - Extent of damage: Not specified\n",
      "\n",
      "Please proceed with the next steps in the claims process.\u001b[0m\n",
      "\n",
      "\u001b[1m> Finished chain.\u001b[0m\n"
     ]
    }
   ],
   "source": [
    "agent_executor = AgentExecutor(agent=agent, tools=tools, verbose=True)\n",
    "\n",
    "response = agent_executor.invoke(\n",
    "    {\"input\": data[0].page_content}, return_only_outputs=True\n",
    ")"
   ]
  },
  {
   "cell_type": "markdown",
   "metadata": {},
   "source": [
    "## Results\n",
    "Here are the outcomes after running our agent on a sample claim from `damage_report.pdf`:\n",
    "- **Damage Identification**: List of items and detected damages.\n",
    "- **Cost Calculation**: Repair cost estimations.\n",
    "- **Price Verification**: Market price comparison for cost validation.\n",
    "\n",
    "These results highlight the effectiveness of our custom tools in automating and enhancing the accuracy and efficiency of insurance claims processing."
   ]
  },
  {
   "cell_type": "markdown",
   "metadata": {},
   "source": [
    "## Another Example"
   ]
  },
  {
   "cell_type": "code",
   "execution_count": 11,
   "metadata": {},
   "outputs": [],
   "source": [
    "ddg_search = DuckDuckGoSearchResults()\n",
    "new_tools = [\n",
    "    damage_detector,\n",
    "    calculator,\n",
    "    ddg_search,\n",
    "]\n",
    "llm_with_new_tools = llm.bind_tools(new_tools)"
   ]
  },
  {
   "cell_type": "code",
   "execution_count": 12,
   "metadata": {},
   "outputs": [],
   "source": [
    "new_agent = (\n",
    "    {\n",
    "        \"input\": lambda x: x[\"input\"],\n",
    "        \"agent_scratchpad\": lambda x: format_to_openai_tool_messages(\n",
    "            x[\"intermediate_steps\"]\n",
    "        ),\n",
    "    }\n",
    "    | prompt\n",
    "    | llm_with_new_tools\n",
    "    | OpenAIToolsAgentOutputParser()\n",
    ")"
   ]
  },
  {
   "cell_type": "code",
   "execution_count": 13,
   "metadata": {},
   "outputs": [
    {
     "name": "stdout",
     "output_type": "stream",
     "text": [
      "\n",
      "\n",
      "\u001b[1m> Entering new AgentExecutor chain...\u001b[0m\n",
      "\u001b[32;1m\u001b[1;3m\n",
      "Invoking: `damage_detector` with `{'text': 'Oak living room table, water damage, estimated current value: EUR 200\\n55-inch Samsung television, water damage, estimated replacement value: EUR 800\\nLenovo laptop, water damage, estimated replacement value: EUR 1200\\nVarious books and decorative items, estimated current value: EUR 150'}`\n",
      "\n",
      "\n",
      "\u001b[0m\u001b[36;1m\u001b[1;3m1. Oak living room table - Extent of damage: Water damage\n",
      "2. 55-inch Samsung television - Extent of damage: Water damage\n",
      "3. Lenovo laptop - Extent of damage: Water damage\n",
      "4. Various books and decorative items - Extent of damage: Not specified\u001b[0m\u001b[32;1m\u001b[1;3m\n",
      "Invoking: `calculator` with `{'text': 'Oak living room table, water damage, estimated current value: EUR 200\\n55-inch Samsung television, water damage, estimated replacement value: EUR 800\\nLenovo laptop, water damage, estimated replacement value: EUR 1200\\nVarious books and decorative items, estimated current value: EUR 150'}`\n",
      "\n",
      "\n",
      "\u001b[0m\u001b[33;1m\u001b[1;3mThe total cost of the damaged objects is EUR 2350.\u001b[0m\u001b[32;1m\u001b[1;3mThe damaged items in your property are:\n",
      "\n",
      "1. Oak living room table - Water damage\n",
      "2. 55-inch Samsung television - Water damage\n",
      "3. Lenovo laptop - Water damage\n",
      "4. Various books and decorative items - Extent of damage not specified\n",
      "\n",
      "The total estimated cost for these damaged items is EUR 2350. Please note that this is an initial estimate and the final claim amount may vary based on the insurance policy terms and conditions.\u001b[0m\n",
      "\n",
      "\u001b[1m> Finished chain.\u001b[0m\n"
     ]
    }
   ],
   "source": [
    "new_agent_executor = AgentExecutor(\n",
    "    agent=new_agent, tools=new_tools, verbose=True\n",
    ")\n",
    "\n",
    "new_response = new_agent_executor.invoke(\n",
    "    {\"input\": data[0].page_content}, return_only_outputs=True\n",
    ")"
   ]
  },
  {
   "cell_type": "markdown",
   "metadata": {},
   "source": []
  }
 ],
 "metadata": {
  "kernelspec": {
   "display_name": "langchain-experiments-SQAeIdRz-py3.11",
   "language": "python",
   "name": "python3"
  },
  "language_info": {
   "codemirror_mode": {
    "name": "ipython",
    "version": 3
   },
   "file_extension": ".py",
   "mimetype": "text/x-python",
   "name": "python",
   "nbconvert_exporter": "python",
   "pygments_lexer": "ipython3",
   "version": "3.11.4"
  }
 },
 "nbformat": 4,
 "nbformat_minor": 2
}
