{
 "cells": [
  {
   "cell_type": "markdown",
   "metadata": {},
   "source": [
    "# Powering Up LangChain: Crafting Cutting-Edge Agents with Custom and Predefined Tools\n",
    "\n",
    "This notebook demonstrates how to build and integrate custom tools using LangChain to enhance data processing tasks. We will explore two examples where the agent interacts differently with the tools. The first example exclusively uses custom-built tools, while the second combines predefined and custom-built tools. This guide assumes familiarity with the concepts of agents and tools in LangChain."
   ]
  },
  {
   "cell_type": "markdown",
   "metadata": {},
   "source": [
    "## Our PDF Document for this Blog Post\n",
    "\n",
    "Check out the [Open PDF Document](./damage_report.pdf) to familiarize yourself with the data we are processing in this demonstration. Please note that the document is a sample and contains fictional data created for illustrative purposes only. This ensures a clear understanding of the examples and techniques discussed without involving real, sensitive information.\n"
   ]
  },
  {
   "cell_type": "markdown",
   "metadata": {},
   "source": [
    "## Example 1: Custom-Built Tools\n",
    "In the first example, the agent utilizes a set of custom-built tools designed for specific tasks such as damage detection, cost calculation, and online price checking. All tools are invoked by the agent to process the input data comprehensively."
   ]
  },
  {
   "cell_type": "markdown",
   "metadata": {},
   "source": [
    "\n",
    "## Example 2: Combination of Predefined and Custom-Built Tools\n",
    "The second example demonstrates the agent's flexibility by incorporating a predefined tool, `DuckDuckGoSearchResults`, alongside two custom-built tools. Unlike the first example, the agent selectively invokes only two of the three available tools based on the input data’s context and requirements.\n"
   ]
  },
  {
   "cell_type": "markdown",
   "metadata": {},
   "source": [
    "## Initial Setup: Importing Libraries and Defining Tools\n",
    "Begin by importing the necessary libraries. Then, dive into creating specialized tools:\n",
    "- `damage_detector`: Detects and classifies damage described in text.\n",
    "- `calculator`: Provides cost estimates for repairs.\n",
    "- `online_checker`: Checks and compares repair costs with online prices."
   ]
  },
  {
   "cell_type": "code",
   "execution_count": 14,
   "metadata": {},
   "outputs": [],
   "source": [
    "import os\n",
    "\n",
    "from dotenv import load_dotenv, find_dotenv\n",
    "from langchain.agents import AgentExecutor\n",
    "from langchain.agents import tool\n",
    "from langchain.agents.format_scratchpad.openai_tools import (\n",
    "    format_to_openai_tool_messages,\n",
    ")\n",
    "from langchain.agents.output_parsers.openai_tools import (\n",
    "    OpenAIToolsAgentOutputParser,\n",
    ")\n",
    "from langchain_community.document_loaders import PyPDFLoader\n",
    "from langchain_community.tools.ddg_search import DuckDuckGoSearchRun\n",
    "from langchain_community.tools.ddg_search.tool import DuckDuckGoSearchResults\n",
    "from langchain_core.prompts import ChatPromptTemplate, MessagesPlaceholder\n",
    "from langchain_core.prompts import PromptTemplate\n",
    "from langchain_openai import ChatOpenAI\n",
    "from pyprojroot import here"
   ]
  },
  {
   "cell_type": "code",
   "execution_count": 15,
   "metadata": {},
   "outputs": [],
   "source": [
    "@tool\n",
    "def damage_detector(text: str) -> str:\n",
    "    \"\"\"\n",
    "    Identifies and lists damaged items from a text description,\n",
    "    including the extent of damage when available.\n",
    "    \"\"\"\n",
    "\n",
    "    template = (\n",
    "        \"text: {text} \\n\\n Instruction: \"\n",
    "        \"Create a list of all damaged objects. Indicate, if applicable, \"\n",
    "        \"the extent of the damage for each item.\"\n",
    "    )\n",
    "\n",
    "    prompt = PromptTemplate(\n",
    "        input_variables=[\"text\"],\n",
    "        template=template,\n",
    "    )\n",
    "\n",
    "    summary_chain = prompt | ChatOpenAI(\n",
    "        openai_api_key=api_key,\n",
    "        temperature=0,\n",
    "        model_name=\"gpt-4\",\n",
    "    )\n",
    "\n",
    "    summary = summary_chain.invoke({\"text\": text})\n",
    "\n",
    "    return summary.content"
   ]
  },
  {
   "cell_type": "code",
   "execution_count": 16,
   "metadata": {},
   "outputs": [],
   "source": [
    "@tool\n",
    "def calculator(text: str) -> str:\n",
    "    \"\"\"\n",
    "    Estimates the total costs for damaged objects to interpret\n",
    "    and compute values based on textual descriptions.\n",
    "    \"\"\"\n",
    "\n",
    "    template = (\n",
    "        \"text: {text} \\n\\n Instruction: Calculate the total costs\"\n",
    "        \"of the damaged objects\"\n",
    "    )\n",
    "\n",
    "    prompt = PromptTemplate(\n",
    "        input_variables=[\"text\"],\n",
    "        template=template,\n",
    "    )\n",
    "\n",
    "    calculator_chain = prompt | ChatOpenAI(\n",
    "        openai_api_key=api_key,\n",
    "        temperature=0,\n",
    "        model_name=\"gpt-4\",\n",
    "    )\n",
    "\n",
    "    cost = calculator_chain.invoke({\"text\": text})\n",
    "\n",
    "    return cost.content"
   ]
  },
  {
   "cell_type": "code",
   "execution_count": 17,
   "metadata": {},
   "outputs": [],
   "source": [
    "@tool\n",
    "def online_checker(text: str) -> str:\n",
    "    \"\"\"\n",
    "    Checks on the web weather the price for an item is supposed to be in a reasonable range\n",
    "    \"\"\"\n",
    "\n",
    "    search_engine = DuckDuckGoSearchRun()\n",
    "\n",
    "    result = search_engine.run(text)\n",
    "\n",
    "    return result"
   ]
  },
  {
   "cell_type": "markdown",
   "metadata": {},
   "source": [
    "## Configuring Environment and Loading Data\n",
    "Securely load API keys and environmental variables using the `dotenv` package, crucial for maintaining security. The dataset consists of descriptions from `damage_report.pdf`, setting the stage for our tool's operations.\n",
    "\n"
   ]
  },
  {
   "cell_type": "code",
   "execution_count": 18,
   "metadata": {},
   "outputs": [],
   "source": [
    "load_dotenv(find_dotenv())\n",
    "api_key = os.getenv(\"OPENAI_API_KEY\")"
   ]
  },
  {
   "cell_type": "code",
   "execution_count": 19,
   "metadata": {},
   "outputs": [
    {
     "name": "stdout",
     "output_type": "stream",
     "text": [
      "[Document(page_content='Property Damage Report - Storm Damage\\nDear Sir/Madam,\\nI am writing to report damage incurred to my property during the storm on February 22, 2024. As a\\nholder of a home contents insurance policy, I am seeking prompt attention to this matter.\\nA severe storm caused significant damage to my residence in the southern part of Cologne,\\nspecifically at Mainzer Straße 45, 50678 Köln. The damage includes broken windows allowing water\\nto enter and damage various household items including furniture and electronic devices.\\nThe following items were affected: \\n- Oak living room table, water damage, estimated current value: EUR 200\\n- 55-inch Samsung television, water damage, estimated replacement value: EUR 800\\n- Lenovo laptop, water damage, estimated replacement value: EUR 1200\\n- Various books and decorative items, estimated current value: EUR 150\\nI have taken all necessary measures to prevent further damage and ensure safety. I also have\\nphotos of the damaged items and the overall damage, which I can provide to support my claim.\\nI kindly request a prompt processing of my damage report and information about the next steps I\\nneed to take. I am available for any queries and can be contacted at my phone number\\n0221/1234567 or via email.\\nThank you for your support in this matter.', metadata={'source': '/Users/michael/Coding/langchain-experiments/damage_report.pdf', 'page': 0}), Document(page_content='Sincerely,\\nMax Mustermann\\nMainzer Straße 45\\n50678 Köln\\nEmail: max.mustermann@email.de\\nPhone: 0221/1234567', metadata={'source': '/Users/michael/Coding/langchain-experiments/damage_report.pdf', 'page': 1})]\n"
     ]
    }
   ],
   "source": [
    "data = PyPDFLoader(str(here(\"./damage_report.pdf\"))).load()\n",
    "print(data)"
   ]
  },
  {
   "cell_type": "markdown",
   "metadata": {},
   "source": [
    "## Integrating Tools with LangChain Agent\n",
    "Define the custom agent and integrate it with the tools outlined above:\n",
    "- `damage_detector`: Extracts and details damage from claim texts.\n",
    "- `calculator`: Calculates estimated repair costs.\n",
    "- `online_checker`: Verifies cost estimates against current market values.\n",
    "\n"
   ]
  },
  {
   "cell_type": "code",
   "execution_count": 20,
   "metadata": {},
   "outputs": [],
   "source": [
    "tools = [damage_detector, calculator, online_checker,]\n",
    "llm = ChatOpenAI(model_name=\"gpt-4\", openai_api_key=api_key, temperature=0)"
   ]
  },
  {
   "cell_type": "code",
   "execution_count": 21,
   "metadata": {},
   "outputs": [],
   "source": [
    "prompt = ChatPromptTemplate.from_messages(\n",
    "    [\n",
    "        (\n",
    "            \"system\",\n",
    "            \"I am a dedicated assistant for insurance claims handling. \"\n",
    "            \"I help process relevant information and provide cost overviews for claims. \"\n",
    "            \"However, I do not have access to current events. \"\n",
    "            \"It is essential for the claims handler to verify the plausibility of the \"\n",
    "            \"provided cost estimations to ensure they are realistic.\"\n",
    "        ),\n",
    "        (\"user\", \"{input}\"),\n",
    "        MessagesPlaceholder(variable_name=\"agent_scratchpad\"),\n",
    "    ]\n",
    ")"
   ]
  },
  {
   "cell_type": "code",
   "execution_count": 22,
   "metadata": {},
   "outputs": [],
   "source": [
    "llm_with_tools = llm.bind_tools(tools)\n",
    "\n",
    "agent = (\n",
    "    {\n",
    "        \"input\": lambda x: x[\"input\"],\n",
    "        \"agent_scratchpad\": lambda x: format_to_openai_tool_messages(\n",
    "            x[\"intermediate_steps\"]\n",
    "        ),\n",
    "    }\n",
    "    | prompt\n",
    "    | llm_with_tools\n",
    "    | OpenAIToolsAgentOutputParser()\n",
    ")"
   ]
  },
  {
   "cell_type": "markdown",
   "metadata": {},
   "source": [
    "## Running the Agent to Process Claims\n",
    "Execute the agent to process a sample insurance claim. This demonstration uses the `AgentExecutor` class to manage tool interactions and outputs, providing a detailed claim analysis."
   ]
  },
  {
   "cell_type": "code",
   "execution_count": 23,
   "metadata": {},
   "outputs": [
    {
     "name": "stdout",
     "output_type": "stream",
     "text": [
      "\n",
      "\n",
      "\u001b[1m> Entering new AgentExecutor chain...\u001b[0m\n",
      "\u001b[32;1m\u001b[1;3m\n",
      "Invoking: `damage_detector` with `{'text': 'Oak living room table, water damage, estimated current value: EUR 200\\n55-inch Samsung television, water damage, estimated replacement value: EUR 800\\nLenovo laptop, water damage, estimated replacement value: EUR 1200\\nVarious books and decorative items, estimated current value: EUR 150'}`\n",
      "\n",
      "\n",
      "\u001b[0m\u001b[36;1m\u001b[1;3m1. Oak living room table - Extent of damage: Water damage\n",
      "2. 55-inch Samsung television - Extent of damage: Water damage\n",
      "3. Lenovo laptop - Extent of damage: Water damage\n",
      "4. Various books and decorative items - Extent of damage: Not specified\u001b[0m\u001b[32;1m\u001b[1;3m\n",
      "Invoking: `calculator` with `{'text': 'Oak living room table, water damage, estimated current value: EUR 200\\n55-inch Samsung television, water damage, estimated replacement value: EUR 800\\nLenovo laptop, water damage, estimated replacement value: EUR 1200\\nVarious books and decorative items, estimated current value: EUR 150'}`\n",
      "\n",
      "\n",
      "\u001b[0m\u001b[33;1m\u001b[1;3mThe total cost of the damaged objects is EUR 2350.\u001b[0m\u001b[32;1m\u001b[1;3m\n",
      "Invoking: `online_checker` with `{'text': 'Oak living room table, estimated current value: EUR 200\\n55-inch Samsung television, estimated replacement value: EUR 800\\nLenovo laptop, estimated replacement value: EUR 1200\\nVarious books and decorative items, estimated current value: EUR 150'}`\n",
      "\n",
      "\n",
      "\u001b[0m\u001b[38;5;200m\u001b[1;3mSpreader: $5-$25. Sprinkler: $2.50-$10. Wheelbarrow: $10-$40. Patio Set (Table and Four Chairs): $75-$250. Bricks and Blocks: 25 cents to $4. Download our Donation Value Guide as a PDF. While you don't need to submit a receipt when claiming your donation tax deductions on your tax return, you will need one if you are ever audited, and ... 2. LG OLED C2. The best 55-inch OLED TV for most people is the LG C2. This is a great OLED set released in 2022 and as a result it's very fairly priced - cheaper than the newer and very similar LG ... If you're dead set against spending more than $500 on a new 55-inch TV (and we don't blame you), the Roku Plus Series 4K QLED TV is an outstanding bargain that won't let you down. Read our full ... As you can see above, the LG C3 is currently the best 55-inch TV for gaming. This is due to its combination of excellent gaming features (four HDMI 2.1 sockets, 4K/120Hz, VRR, Dolby Vision gaming and HGiG), brilliant gaming performance and a great price. The LG B3 OLED is now our 'Best Mid-Range 55-Inch TV', as it's a bit better than the Hisense U8K and a better value than the Sony A75L OLED. Our recommendations are based on what we think are the best 55-inch 4k TVs currently available. They are adapted to be valid for most people, in each price range.\u001b[0m\u001b[32;1m\u001b[1;3mThe damaged items and their estimated costs are as follows:\n",
      "\n",
      "1. Oak living room table - Water damage, estimated current value: EUR 200\n",
      "2. 55-inch Samsung television - Water damage, estimated replacement value: EUR 800\n",
      "3. Lenovo laptop - Water damage, estimated replacement value: EUR 1200\n",
      "4. Various books and decorative items - Estimated current value: EUR 150\n",
      "\n",
      "The total estimated cost for these damaged items is EUR 2350. \n",
      "\n",
      "Based on the online check, the prices for the items seem to be within a reasonable range. However, it is recommended to further verify these costs with the policyholder and cross-check with the market prices for similar items. \n",
      "\n",
      "Please proceed with the next steps in the claims process, which may include further verification of the damage and costs, and determining the coverage under the policyholder's home contents insurance policy.\u001b[0m\n",
      "\n",
      "\u001b[1m> Finished chain.\u001b[0m\n"
     ]
    }
   ],
   "source": [
    "agent_executor = AgentExecutor(agent=agent, tools=tools, verbose=True)\n",
    "\n",
    "response = agent_executor.invoke(\n",
    "    {\"input\": data[0].page_content}, return_only_outputs=True\n",
    ")"
   ]
  },
  {
   "cell_type": "markdown",
   "metadata": {},
   "source": [
    "## Outcomes of Custom Tool Integration\n",
    "The outcomes of using a fully custom-built toolset in the first example are as follows:\n",
    "- **Damage Identification**: Detailed list of identified damages based on the textual descriptions.\n",
    "- **Cost Calculation**: Precise repair cost estimations calculated by the agent.\n",
    "- **Price Verification**: Comparison of calculated costs against current market prices to ensure competitiveness.\n",
    "\n",
    "These results demonstrate how custom tools can significantly automate and enhance the processing accuracy and efficiency in niche domains like insurance claim handling.\n"
   ]
  },
  {
   "cell_type": "markdown",
   "metadata": {},
   "source": [
    "## Setting Up for a Mixed Tool Strategy\n",
    "Transitioning from the first example, we now explore a mixed strategy where the agent utilizes both predefined and custom-built tools. This setup aims to illustrate the flexibility and adaptability of the agent when faced with different tool capabilities and data requirements."
   ]
  },
  {
   "cell_type": "code",
   "execution_count": 24,
   "metadata": {},
   "outputs": [],
   "source": [
    "ddg_search = DuckDuckGoSearchResults()\n",
    "new_tools = [\n",
    "    damage_detector,\n",
    "    calculator,\n",
    "    ddg_search,\n",
    "]\n",
    "llm_with_new_tools = llm.bind_tools(new_tools)"
   ]
  },
  {
   "cell_type": "code",
   "execution_count": 25,
   "metadata": {},
   "outputs": [],
   "source": [
    "new_agent = (\n",
    "    {\n",
    "        \"input\": lambda x: x[\"input\"],\n",
    "        \"agent_scratchpad\": lambda x: format_to_openai_tool_messages(\n",
    "            x[\"intermediate_steps\"]\n",
    "        ),\n",
    "    }\n",
    "    | prompt\n",
    "    | llm_with_new_tools\n",
    "    | OpenAIToolsAgentOutputParser()\n",
    ")"
   ]
  },
  {
   "cell_type": "code",
   "execution_count": 26,
   "metadata": {},
   "outputs": [
    {
     "name": "stdout",
     "output_type": "stream",
     "text": [
      "\n",
      "\n",
      "\u001b[1m> Entering new AgentExecutor chain...\u001b[0m\n",
      "\u001b[32;1m\u001b[1;3m\n",
      "Invoking: `damage_detector` with `{'text': 'Oak living room table, water damage, estimated current value: EUR 200\\n55-inch Samsung television, water damage, estimated replacement value: EUR 800\\nLenovo laptop, water damage, estimated replacement value: EUR 1200\\nVarious books and decorative items, estimated current value: EUR 150'}`\n",
      "\n",
      "\n",
      "\u001b[0m\u001b[36;1m\u001b[1;3m1. Oak living room table - Extent of damage: Water damage\n",
      "2. 55-inch Samsung television - Extent of damage: Water damage\n",
      "3. Lenovo laptop - Extent of damage: Water damage\n",
      "4. Various books and decorative items - Extent of damage: Not specified\u001b[0m\u001b[32;1m\u001b[1;3m\n",
      "Invoking: `calculator` with `{'text': 'Oak living room table, water damage, estimated current value: EUR 200\\n55-inch Samsung television, water damage, estimated replacement value: EUR 800\\nLenovo laptop, water damage, estimated replacement value: EUR 1200\\nVarious books and decorative items, estimated current value: EUR 150'}`\n",
      "\n",
      "\n",
      "\u001b[0m\u001b[33;1m\u001b[1;3mThe total cost of the damaged objects is EUR 2350.\u001b[0m\u001b[32;1m\u001b[1;3mThe damaged items and their extent of damage are as follows:\n",
      "\n",
      "1. Oak living room table - Water damage\n",
      "2. 55-inch Samsung television - Water damage\n",
      "3. Lenovo laptop - Water damage\n",
      "4. Various books and decorative items - Extent of damage not specified\n",
      "\n",
      "The total estimated cost for the damaged items is EUR 2350. Please verify this information and proceed with the claim process.\u001b[0m\n",
      "\n",
      "\u001b[1m> Finished chain.\u001b[0m\n"
     ]
    }
   ],
   "source": [
    "new_agent_executor = AgentExecutor(\n",
    "    agent=new_agent, tools=new_tools, verbose=True\n",
    ")\n",
    "\n",
    "new_response = new_agent_executor.invoke(\n",
    "    {\"input\": data[0].page_content}, return_only_outputs=True\n",
    ")"
   ]
  },
  {
   "cell_type": "markdown",
   "metadata": {},
   "source": [
    "## Evaluating Mixed Tool Strategy\n",
    "The second example's results highlight the agent’s adeptness in integrating diverse tool types—predefined and custom-built:\n",
    "- **Selective Tool Invocation**: The agent’s choice to omit one tool showcases its strategic decision-making, optimizing task efficiency based on relevance and necessity.\n",
    "- **Adaptive Data Processing**: Demonstrates how the agent adapts its strategy to the data's context, using only the most pertinent tools.\n",
    "\n",
    "This adaptive use of tools reflects advanced capability in handling complex scenarios, making the agent highly effective in dynamic environments.\n"
   ]
  },
  {
   "cell_type": "markdown",
   "metadata": {},
   "source": []
  },
  {
   "cell_type": "markdown",
   "metadata": {},
   "source": [
    "## Conclusion: Advancing Data Processing with Custom and Predefined Tools\n",
    "\n",
    "This exploration has demonstrated the versatile capabilities of LangChain in enhancing data processing tasks through the strategic use of custom and predefined tools within agents. The first example showcased the effectiveness of completely custom tools, tailored for specific tasks like insurance claims processing, which illustrated how deeply integrated tools could automate and refine complex data handling.\n",
    "\n",
    "The second example, however, highlighted the flexibility of LangChain agents in adaptively integrating a mix of both predefined and custom-built tools. This not only optimizes efficiency but also caters to the dynamic needs of various data sets, proving that a hybrid approach can leverage the strengths of both types of tools effectively.\n",
    "\n",
    "These case studies underscore the potential of LangChain as a robust framework for building intelligent agents. Whether aiming to fully customize your tools or integrate existing solutions, LangChain offers a powerful platform for innovative data processing solutions.\n",
    "\n",
    "We encourage developers and data scientists to experiment with their own combinations of tools and explore how LangChain can be tailored to meet specific operational needs. By leveraging such a flexible system, you can push the boundaries of what's possible in automated data processing and achieve remarkable efficiency and accuracy in your projects.\n",
    "\n",
    "For further details, tips, and community insights, join the conversation on LangChain's community forums and stay updated with the latest features and best practices. Embrace the future of data processing with LangChain agents, where your tools are only limited by your imagination."
   ]
  },
  {
   "cell_type": "markdown",
   "metadata": {},
   "source": []
  }
 ],
 "metadata": {
  "kernelspec": {
   "display_name": "langchain-experiments-SQAeIdRz-py3.11",
   "language": "python",
   "name": "python3"
  },
  "language_info": {
   "codemirror_mode": {
    "name": "ipython",
    "version": 3
   },
   "file_extension": ".py",
   "mimetype": "text/x-python",
   "name": "python",
   "nbconvert_exporter": "python",
   "pygments_lexer": "ipython3",
   "version": "3.11.4"
  }
 },
 "nbformat": 4,
 "nbformat_minor": 2
}
