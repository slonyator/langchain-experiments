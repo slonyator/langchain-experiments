{
 "cells": [
  {
   "cell_type": "markdown",
   "metadata": {},
   "source": [
    "# Introduction\n",
    "This notebook demonstrates the creation of a set of tools and an agent designed to assist in handling insurance claims. We'll walk through setting up necessary tools that analyze text data to detect damages, calculate costs, and check online price ranges. These tools will then be integrated into an agent capable of processing insurance claims efficiently."
   ]
  },
  {
   "cell_type": "markdown",
   "metadata": {},
   "source": [
    "## Setup - Imports & Definition of Tools\n",
    "In this section, we import necessary libraries and define custom tools. Each tool serves a specific purpose:\n",
    "- `damage_detector`: Identifies damaged items and their condition from text.\n",
    "- `calculator`: Estimates repair costs based on descriptions.\n",
    "- `online_checker`: Verifies if the pricing of items is reasonable based on online data.\n"
   ]
  },
  {
   "cell_type": "code",
   "execution_count": 1,
   "metadata": {},
   "outputs": [],
   "source": [
    "import os\n",
    "from dotenv import load_dotenv, find_dotenv\n",
    "from langchain.agents import AgentExecutor\n",
    "from langchain.agents import tool\n",
    "from langchain.agents.format_scratchpad.openai_tools import (\n",
    "    format_to_openai_tool_messages,\n",
    ")\n",
    "from langchain.agents.output_parsers.openai_tools import (\n",
    "    OpenAIToolsAgentOutputParser,\n",
    ")\n",
    "from langchain_community.document_loaders import PyPDFLoader\n",
    "from langchain_community.tools.ddg_search import DuckDuckGoSearchRun\n",
    "from langchain_core.prompts import ChatPromptTemplate, MessagesPlaceholder\n",
    "from langchain_core.prompts import PromptTemplate\n",
    "from langchain_openai import ChatOpenAI\n",
    "from pyprojroot import here\n"
   ]
  },
  {
   "cell_type": "code",
   "execution_count": 2,
   "metadata": {},
   "outputs": [],
   "source": [
    "@tool\n",
    "def damage_detector(text: str) -> str:\n",
    "    \"\"\"\n",
    "    Identifies and lists damaged items from a text description, \n",
    "    including the extent of damage when available.\n",
    "    \"\"\"\n",
    "\n",
    "    template = (\n",
    "     \"text: {text} \\n\\n Instruction: \"\n",
    "     \"Create a list of all damaged objects. Indicate, if applicable, \"\n",
    "     \"the extent of the damage for each item.\"\n",
    "    )\n",
    "    \n",
    "    prompt = PromptTemplate(\n",
    "        input_variables=[\"text\"],\n",
    "        template=template,\n",
    "    )\n",
    "\n",
    "    summary_chain = prompt | ChatOpenAI(\n",
    "        openai_api_key=api_key,\n",
    "        temperature=0,\n",
    "        model_name=\"gpt-4\",\n",
    "    )\n",
    "\n",
    "    summary = summary_chain.invoke({\"text\": text})\n",
    "\n",
    "    return summary.content"
   ]
  },
  {
   "cell_type": "code",
   "execution_count": 3,
   "metadata": {},
   "outputs": [],
   "source": [
    "@tool\n",
    "def calculator(text: str) -> str:\n",
    "    \"\"\"\n",
    "    Estimates the total costs for damaged objects to interpret \n",
    "    and compute values based on textual descriptions.\n",
    "    \"\"\"\n",
    "\n",
    "    template = (\n",
    "        \"text: {text} \\n\\n Instruction: Calculate the total costs\"\n",
    "        \"of the damaged objects\"\n",
    "    )\n",
    "    \n",
    "    prompt = PromptTemplate(\n",
    "        input_variables=[\"text\"],\n",
    "        template=template,\n",
    "    )\n",
    "\n",
    "    calculator_chain = prompt | ChatOpenAI(\n",
    "        openai_api_key=api_key,\n",
    "        temperature=0,\n",
    "        model_name=\"gpt-4\",\n",
    "    )\n",
    "\n",
    "    cost = calculator_chain.invoke({\"text\": text})\n",
    "\n",
    "    return cost.content"
   ]
  },
  {
   "cell_type": "code",
   "execution_count": 4,
   "metadata": {},
   "outputs": [],
   "source": [
    "@tool\n",
    "def online_checker(text: str) -> str:\n",
    "    \"\"\"\n",
    "    Checks on the web weather the price for an item is supposed to be in a reasonable range\n",
    "    \"\"\"\n",
    "\n",
    "    search_engine = DuckDuckGoSearchRun()\n",
    "\n",
    "    result = search_engine.run(text)\n",
    "\n",
    "    return result"
   ]
  },
  {
   "cell_type": "markdown",
   "metadata": {},
   "source": [
    "## Loading API Key & Data\n",
    "We utilize the `dotenv` package to securely load environment variables, such as API keys, to ensure our application's security. The data for this notebook is loaded from a `damage_report.pdf`, which contains descriptions of damaged items that our tools will process.\n"
   ]
  },
  {
   "cell_type": "code",
   "execution_count": 5,
   "metadata": {},
   "outputs": [],
   "source": [
    "load_dotenv(find_dotenv())\n",
    "api_key = os.getenv(\"OPENAI_API_KEY\")"
   ]
  },
  {
   "cell_type": "code",
   "execution_count": 6,
   "metadata": {},
   "outputs": [
    {
     "name": "stdout",
     "output_type": "stream",
     "text": [
      "[Document(page_content='Property Damage Report - Storm Damage\\nDear Sir/Madam,\\nI am writing to report damage incurred to my property during the storm on February 22, 2024. As a\\nholder of a home contents insurance policy, I am seeking prompt attention to this matter.\\nA severe storm caused significant damage to my residence in the southern part of Cologne,\\nspecifically at Mainzer Straße 45, 50678 Köln. The damage includes broken windows allowing water\\nto enter and damage various household items including furniture and electronic devices.\\nThe following items were affected: \\n- Oak living room table, water damage, estimated current value: EUR 200\\n- 55-inch Samsung television, water damage, estimated replacement value: EUR 800\\n- Lenovo laptop, water damage, estimated replacement value: EUR 1200\\n- Various books and decorative items, estimated current value: EUR 150\\nI have taken all necessary measures to prevent further damage and ensure safety. I also have\\nphotos of the damaged items and the overall damage, which I can provide to support my claim.\\nI kindly request a prompt processing of my damage report and information about the next steps I\\nneed to take. I am available for any queries and can be contacted at my phone number\\n0221/1234567 or via email.\\nThank you for your support in this matter.', metadata={'source': '/Users/michael/Coding/langchain-experiments/damage_report.pdf', 'page': 0}), Document(page_content='Sincerely,\\nMax Mustermann\\nMainzer Straße 45\\n50678 Köln\\nEmail: max.mustermann@email.de\\nPhone: 0221/1234567', metadata={'source': '/Users/michael/Coding/langchain-experiments/damage_report.pdf', 'page': 1})]\n"
     ]
    }
   ],
   "source": [
    "data = PyPDFLoader(str(here(\"./damage_report.pdf\"))).load()\n",
    "print(data)"
   ]
  },
  {
   "cell_type": "markdown",
   "metadata": {},
   "source": [
    "## Definition of Tools & Agent\n",
    "Here, we define the agent and bind it with the previously defined tools. The agent uses these tools to interpret and process the information from the insurance claims:\n",
    "- The `damage_detector` tool extracts and lists damaged items.\n",
    "- The `calculator` computes the cost estimates.\n",
    "- The `online_checker` validates the cost estimates against current market prices.\n"
   ]
  },
  {
   "cell_type": "code",
   "execution_count": 7,
   "metadata": {},
   "outputs": [],
   "source": [
    "tools = [damage_detector, calculator, online_checker]\n",
    "llm = ChatOpenAI(model_name=\"gpt-4\", openai_api_key=api_key, temperature=0)"
   ]
  },
  {
   "cell_type": "code",
   "execution_count": 8,
   "metadata": {},
   "outputs": [],
   "source": [
    "prompt = ChatPromptTemplate.from_messages(\n",
    "    [\n",
    "        (\n",
    "            \"system\",\n",
    "            \"I am a dedicated assistant for insurance claims handling. \"\n",
    "            \"I help process relevant information and provide cost overviews for claims. \"\n",
    "            \"However, I do not have access to current events. \"\n",
    "            \"It is essential for the claims handler to verify the plausibility of the \"\n",
    "            \"provided cost estimations to ensure they are realistic.\"\n",
    "        ),\n",
    "        (\"user\", \"{input}\"),\n",
    "        MessagesPlaceholder(variable_name=\"agent_scratchpad\"),\n",
    "    ]\n",
    ")"
   ]
  },
  {
   "cell_type": "code",
   "execution_count": 9,
   "metadata": {},
   "outputs": [],
   "source": [
    "llm_with_tools = llm.bind_tools(tools)\n",
    "\n",
    "agent = (\n",
    "    {\n",
    "        \"input\": lambda x: x[\"input\"],\n",
    "        \"agent_scratchpad\": lambda x: format_to_openai_tool_messages(\n",
    "            x[\"intermediate_steps\"]\n",
    "        ),\n",
    "    }\n",
    "    | prompt\n",
    "    | llm_with_tools\n",
    "    | OpenAIToolsAgentOutputParser()\n",
    ")"
   ]
  },
  {
   "cell_type": "markdown",
   "metadata": {},
   "source": [
    "## Agent Execution\n",
    "In this final step, we execute our agent with the bound tools to process a sample insurance claim. The `AgentExecutor` class manages the orchestration between the agent and tools, handling inputs and formatting outputs. The result is a comprehensive analysis of the claim, ready for review and further processing.\n"
   ]
  },
  {
   "cell_type": "code",
   "execution_count": 10,
   "metadata": {},
   "outputs": [
    {
     "name": "stdout",
     "output_type": "stream",
     "text": [
      "\n",
      "\n",
      "\u001b[1m> Entering new AgentExecutor chain...\u001b[0m\n",
      "\u001b[32;1m\u001b[1;3m\n",
      "Invoking: `damage_detector` with `{'text': 'Oak living room table, water damage, estimated current value: EUR 200\\n55-inch Samsung television, water damage, estimated replacement value: EUR 800\\nLenovo laptop, water damage, estimated replacement value: EUR 1200\\nVarious books and decorative items, estimated current value: EUR 150'}`\n",
      "\n",
      "\n",
      "\u001b[0m\u001b[36;1m\u001b[1;3m1. Oak living room table - Extent of damage: Water damage\n",
      "2. 55-inch Samsung television - Extent of damage: Water damage\n",
      "3. Lenovo laptop - Extent of damage: Water damage\n",
      "4. Various books and decorative items - Extent of damage: Not specified\u001b[0m\u001b[32;1m\u001b[1;3m\n",
      "Invoking: `calculator` with `{'text': 'Oak living room table, water damage, estimated current value: EUR 200\\n55-inch Samsung television, water damage, estimated replacement value: EUR 800\\nLenovo laptop, water damage, estimated replacement value: EUR 1200\\nVarious books and decorative items, estimated current value: EUR 150'}`\n",
      "\n",
      "\n",
      "\u001b[0m\u001b[33;1m\u001b[1;3mThe total cost of the damaged objects is EUR 2350.\u001b[0m\u001b[32;1m\u001b[1;3m\n",
      "Invoking: `online_checker` with `{'text': 'Oak living room table, estimated current value: EUR 200\\n55-inch Samsung television, estimated replacement value: EUR 800\\nLenovo laptop, estimated replacement value: EUR 1200\\nVarious books and decorative items, estimated current value: EUR 150'}`\n",
      "\n",
      "\n",
      "\u001b[0m\u001b[38;5;200m\u001b[1;3mThe depreciation rate determines how quickly your furniture loses value. You can choose the rate from the provided table or enter a custom percentage if you have specific information. Step 4: Click Calculate. Hit the 'Calculate' button to obtain the estimated current value of your furniture based on the provided information. Example #2 - Written Down Value Method. On 01/01/2019Mark Inc. purchased office furniture like tables and chairs worth $10,000. The rate of depreciation is 10% Written Down Value Method. Calculate yearly depreciation to be booked by Mark Inc on 31/12/2019 and 31/12/2020. Solution: Spreader: $5-$25. Sprinkler: $2.50-$10. Wheelbarrow: $10-$40. Patio Set (Table and Four Chairs): $75-$250. Bricks and Blocks: 25 cents to $4. Download our Donation Value Guide as a PDF. While you don't need to submit a receipt when claiming your donation tax deductions on your tax return, you will need one if you are ever audited, and ... An asset for a business cost $1,750,000, will have a life of 10 years and the salvage value at the end of 10 years will be $10,000. You calculate 200% of the straight-line depreciation, or a factor of 2, and multiply that value by the book value at the beginning of the period to find the depreciation expense for that period. The salvage value is the remaining value of an asset once it reaches the end of its useful life. Businesses often use depreciation to offset the initial cost of acquiring an asset for tax purposes. Rather than fully deduct the cost of an asset in the same year it was purchased, businesses can deduct part of the cost of the asset each year ...\u001b[0m\u001b[32;1m\u001b[1;3mThe damaged items in your claim are:\n",
      "\n",
      "1. Oak living room table - Water damage\n",
      "2. 55-inch Samsung television - Water damage\n",
      "3. Lenovo laptop - Water damage\n",
      "4. Various books and decorative items - Not specified\n",
      "\n",
      "The total estimated cost for these items is EUR 2350. \n",
      "\n",
      "However, it's important to note that the actual cost may vary depending on the depreciation rate of the items and the current market value. The claims handler will need to verify these costs to ensure they are realistic. \n",
      "\n",
      "Please provide any additional information or documentation you may have to support your claim, such as photos of the damaged items and receipts for their original purchase. This will help expedite the claims process.\u001b[0m\n",
      "\n",
      "\u001b[1m> Finished chain.\u001b[0m\n"
     ]
    }
   ],
   "source": [
    "agent_executor = AgentExecutor(agent=agent, tools=tools, verbose=True)\n",
    "\n",
    "response = agent_executor.invoke(\n",
    "    {\"input\": data[0].page_content}, return_only_outputs=True\n",
    ")"
   ]
  },
  {
   "cell_type": "markdown",
   "metadata": {},
   "source": [
    "Upon executing our agent, the output produced is an analyzed summary of the first page of the `damage_report.pdf`. This output reflects the combined capabilities of our tools:\n",
    "- **Damage Identification**: Items and their damages listed as detected by `damage_detector`.\n",
    "- **Cost Calculation**: Estimated repair costs provided by `calculator`.\n",
    "- **Price Verification**: Online market price comparisons by `online_checker`.\n",
    "\n",
    "This result showcases the practical application of our tools in automating aspects of insurance claim processing, reducing manual effort, and improving accuracy and speed of response.\n",
    "\n"
   ]
  },
  {
   "cell_type": "markdown",
   "metadata": {},
   "source": []
  }
 ],
 "metadata": {
  "kernelspec": {
   "display_name": "langchain-experiments-SQAeIdRz-py3.11",
   "language": "python",
   "name": "python3"
  },
  "language_info": {
   "codemirror_mode": {
    "name": "ipython",
    "version": 3
   },
   "file_extension": ".py",
   "mimetype": "text/x-python",
   "name": "python",
   "nbconvert_exporter": "python",
   "pygments_lexer": "ipython3",
   "version": "3.11.4"
  }
 },
 "nbformat": 4,
 "nbformat_minor": 2
}
