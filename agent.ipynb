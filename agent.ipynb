{
 "cells": [
  {
   "cell_type": "markdown",
   "metadata": {},
   "source": [
    "# How to create self-made Tools"
   ]
  },
  {
   "cell_type": "code",
   "execution_count": null,
   "metadata": {},
   "outputs": [],
   "source": [
    "from dotenv import load_dotenv, find_dotenv\n",
    "from langchain.agents import AgentExecutor\n",
    "from langchain.agents import tool\n",
    "from langchain.agents.format_scratchpad.openai_tools import (\n",
    "    format_to_openai_tool_messages,\n",
    ")\n",
    "from langchain.agents.output_parsers.openai_tools import (\n",
    "    OpenAIToolsAgentOutputParser,\n",
    ")\n",
    "from langchain_community.document_loaders import PyPDFLoader\n",
    "from langchain_community.tools.ddg_search import DuckDuckGoSearchRun\n",
    "from langchain_core.prompts import ChatPromptTemplate, MessagesPlaceholder\n",
    "from langchain_core.prompts import PromptTemplate\n",
    "from langchain_openai import ChatOpenAI\n",
    "from pyprojroot import here\n"
   ]
  },
  {
   "cell_type": "code",
   "execution_count": null,
   "metadata": {},
   "outputs": [],
   "source": [
    "@tool\n",
    "def damage_detector(text: str) -> str:\n",
    "    \"\"\"\n",
    "    Identifies and lists damaged items from a text description, \n",
    "    including the extent of damage when available.\n",
    "    \"\"\"\n",
    "\n",
    "    template = (\n",
    "        \"text: {text} \\n\\n Instruction: Erstelle eine Liste aller \"\n",
    "        \"beschädigten Objekte. Gib, falls vorhanden, die Höhe des \"\n",
    "        \"Schadens für jeden Gegenstand an.\"\n",
    "    )\n",
    "    \n",
    "    prompt = PromptTemplate(\n",
    "        input_variables=[\"text\"],\n",
    "        template=template,\n",
    "    )\n",
    "\n",
    "    summary_chain = prompt | ChatOpenAI(\n",
    "        openai_api_key=api_key,\n",
    "        temperature=0,\n",
    "        model_name=\"gpt-4\",\n",
    "    )\n",
    "\n",
    "    summary = summary_chain.invoke({\"text\": text})\n",
    "\n",
    "    return summary.content"
   ]
  },
  {
   "cell_type": "code",
   "execution_count": null,
   "metadata": {},
   "outputs": [],
   "source": [
    "@tool\n",
    "def calculator(text: str) -> str:\n",
    "    \"\"\"\n",
    "    Estimates the total costs for damaged objects to interpret \n",
    "    and compute values based on textual descriptions.\n",
    "    \"\"\"\n",
    "\n",
    "    template = (\n",
    "        \"text: {text} \\n\\n Instruction: Berechne die Gesamtkosten \"\n",
    "        \"der beschädigten Objekte.\"\n",
    "    )\n",
    "    \n",
    "    prompt = PromptTemplate(\n",
    "        input_variables=[\"text\"],\n",
    "        template=template,\n",
    "    )\n",
    "\n",
    "    calculator_chain = prompt | ChatOpenAI(\n",
    "        openai_api_key=api_key,\n",
    "        temperature=0,\n",
    "        model_name=\"gpt-4\",\n",
    "    )\n",
    "\n",
    "    cost = calculator_chain.invoke({\"text\": text})\n",
    "\n",
    "    return cost.content"
   ]
  },
  {
   "cell_type": "code",
   "execution_count": null,
   "metadata": {},
   "outputs": [],
   "source": [
    "@tool\n",
    "def online_checker(text: str) -> str:\n",
    "    \"\"\"\n",
    "    Leverages the DuckDuckGo search engine to query any given text online, \n",
    "    returning the search results as a string. \n",
    "    This tool is useful for quick online searches and information verification.\n",
    "    \"\"\"\n",
    "\n",
    "    search_engine = DuckDuckGoSearchRun()\n",
    "\n",
    "    result = search_engine.run(text)\n",
    "\n",
    "    return result"
   ]
  }
 ],
 "metadata": {
  "kernelspec": {
   "display_name": "langchain-experiments-SQAeIdRz-py3.11",
   "language": "python",
   "name": "python3"
  },
  "language_info": {
   "name": "python",
   "version": "3.11.4"
  }
 },
 "nbformat": 4,
 "nbformat_minor": 2
}
