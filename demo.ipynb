{
 "cells": [
  {
   "cell_type": "markdown",
   "metadata": {},
   "source": [
    "## Setup"
   ]
  },
  {
   "cell_type": "code",
   "execution_count": null,
   "metadata": {},
   "outputs": [],
   "source": [
    "import os\n",
    "from langchain_openai import OpenAI\n",
    "from dotenv import load_dotenv, find_dotenv\n",
    "from pyprojroot import here\n",
    "from langchain_community.document_loaders import PyPDFLoader\n",
    "from langchain.text_splitter import RecursiveCharacterTextSplitter\n",
    "from langchain_openai import OpenAIEmbeddings\n",
    "from langchain_community.vectorstores import FAISS\n",
    "from langchain.chains import RetrievalQA"
   ]
  },
  {
   "cell_type": "code",
   "execution_count": null,
   "metadata": {},
   "outputs": [],
   "source": [
    "load_dotenv(find_dotenv())\n",
    "api_key = os.environ[\"OPENAI_API_KEY\"]"
   ]
  },
  {
   "cell_type": "code",
   "execution_count": null,
   "metadata": {},
   "outputs": [],
   "source": [
    "data = PyPDFLoader(str(here(\"./schadenmeldung.pdf\"))).load()\n",
    "print(data)"
   ]
  },
  {
   "cell_type": "markdown",
   "metadata": {},
   "source": [
    "## Text Representation & Chunking"
   ]
  },
  {
   "cell_type": "code",
   "execution_count": null,
   "metadata": {},
   "outputs": [],
   "source": [
    "splitter = RecursiveCharacterTextSplitter(\n",
    "    chunk_size=100,\n",
    "    chunk_overlap=25,\n",
    ")\n",
    "\n",
    "docs = splitter.split_documents(data)\n",
    "print(docs)"
   ]
  },
  {
   "cell_type": "code",
   "execution_count": null,
   "metadata": {},
   "outputs": [],
   "source": [
    "embedding_function = OpenAIEmbeddings(openai_api_key=api_key)\n",
    "\n",
    "vectordb = FAISS.from_documents(\n",
    "    docs,\n",
    "    embedding_function,\n",
    ")\n",
    "\n",
    "vectordb.save_local(str(here(\"./\")))"
   ]
  },
  {
   "cell_type": "code",
   "execution_count": null,
   "metadata": {},
   "outputs": [],
   "source": [
    "qa = RetrievalQA.from_chain_type(\n",
    "        llm=OpenAI(\n",
    "            model_name=\"gpt-3.5-turbo-instruct\",\n",
    "            temperature=0,\n",
    "            openai_api_key=api_key\n",
    "        ), \n",
    "        chain_type=\"stuff\", \n",
    "        retriever=vectordb.as_retriever()\n",
    "    )"
   ]
  },
  {
   "cell_type": "markdown",
   "metadata": {},
   "source": [
    "### Was muss ich mein Model fragen um die richtige Antwort zu erhalten?"
   ]
  },
  {
   "cell_type": "code",
   "execution_count": null,
   "metadata": {},
   "outputs": [],
   "source": [
    "print(qa.invoke(\"Wann ist der Schaden entstanden?\"))"
   ]
  },
  {
   "cell_type": "code",
   "execution_count": null,
   "metadata": {},
   "outputs": [],
   "source": [
    "print(qa.invoke(\"Wann ist die Meldung eingegangen?\"))"
   ]
  },
  {
   "cell_type": "code",
   "execution_count": null,
   "metadata": {},
   "outputs": [],
   "source": [
    "print(qa.invoke(\"Fasse den Inhalt des Dokuments in einem Satz zusammen\"))"
   ]
  },
  {
   "cell_type": "code",
   "execution_count": null,
   "metadata": {},
   "outputs": [],
   "source": [
    "print(qa.invoke(\"Frage: An welchem Datum ist der Schaden entstaden? Hinweis: Es kann das gleiche Datum wie das Eingangsdatum der Schadenmeldung sein, es kann jedoch auch ein anderes Datum sein. Gesucht wird das Datum, an dem tatsächlich etwas beschädigt wurde.\"))"
   ]
  },
  {
   "cell_type": "code",
   "execution_count": null,
   "metadata": {},
   "outputs": [],
   "source": [
    "print(qa.invoke(\"In welche Kategorie passt die Meldung am besten? Sturm, Leitungswasser, Elementar, Einbruch, Diebstahl, Feuer, Sonstiges\"))"
   ]
  },
  {
   "cell_type": "markdown",
   "metadata": {},
   "source": [
    "### Je spezifischer die Frage, desto besser ist die Antwort"
   ]
  },
  {
   "cell_type": "code",
   "execution_count": null,
   "metadata": {},
   "outputs": [],
   "source": [
    "print(qa.invoke(\"An welchem Datum war der Sturm, durch den der Schaden entstanden ist?\"))"
   ]
  },
  {
   "cell_type": "markdown",
   "metadata": {},
   "source": [
    "## Few-Shot-Approach"
   ]
  },
  {
   "cell_type": "code",
   "execution_count": null,
   "metadata": {},
   "outputs": [],
   "source": [
    "from langchain.prompts.few_shot import FewShotPromptTemplate\n",
    "from langchain.prompts.prompt import PromptTemplate"
   ]
  },
  {
   "cell_type": "code",
   "execution_count": null,
   "metadata": {},
   "outputs": [],
   "source": [
    "template = \"context: {context} \\n question: {question} \\n answer: {answer}\""
   ]
  },
  {
   "cell_type": "code",
   "execution_count": null,
   "metadata": {},
   "outputs": [],
   "source": [
    "example_prompt = PromptTemplate(\n",
    "    input_variables=[\"context\", \"question\", \"answer\"],\n",
    "    template=template,    \n",
    ")"
   ]
  },
  {
   "cell_type": "code",
   "execution_count": null,
   "metadata": {},
   "outputs": [],
   "source": [
    "examples = [\n",
    "    {\n",
    "        \"context\": \"\"\"\n",
    "            Betreff: Leitungswasserschaden in der Wohnung - Meldung vom 01.02.2024\n",
    "\n",
    "            Sehr geehrte Damen und Herren,\n",
    "\n",
    "            ich melde einen Leitungswasserschaden in meiner Wohnung in Köln-Süd (Mainzer Straße 45, 50678 Köln), der am 01.02.2024 gegen 12Uhr festgestellt wurde.\n",
    "\n",
    "            Versicherungsnummer: GH567890123\n",
    "\n",
    "            Der Schaden ist durch einen Defekt an einer Wasserleitung entstanden. Infolge des Lecks trat Wasser aus und beschädigte Teile der Wohnung sowie Hausrat.\n",
    "\n",
    "            Betroffene Bereiche:\n",
    "\n",
    "            Küche: Wasserschäden an Wänden, Boden und Fliesen\n",
    "            Wohnzimmer: Wasserschäden an Parkett und Möbeln\n",
    "            Schlafzimmer: Wasserschäden an Teppich und Dekoartikeln\n",
    "\n",
    "            Betroffene Gegenstände:\n",
    "\n",
    "                Einbauküche (Marke: X, Modell: Y, Zeitwert: 5.000€)\n",
    "                Sofa (Marke: Z, Modell: W, Zeitwert: 1.000€)\n",
    "                Bett (Marke: A, Modell: B, Zeitwert: 800€)\n",
    "\n",
    "            Fotos der Schäden sind vorhanden und können auf Anfrage zur Verfügung gestellt werden.\n",
    "\n",
    "            Ich habe bereits alle notwendigen Maßnahmen ergriffen, um weitere Schäden zu verhindern, z.B. die Wasserzufuhr abgestellt und einen Fachmann für die Trocknung der betroffenen Räume beauftragt.\n",
    "\n",
    "            Ich bitte um eine schnelle Bearbeitung meiner Schadensmeldung und um Informationen zu weiteren Schritten.\n",
    "\n",
    "            Rückfragen unter:\n",
    "\n",
    "                Telefon: 0221/1234567\n",
    "                E-Mail: max.mustermann@email.de\n",
    "\n",
    "            Mit freundlichen Grüßen,    \n",
    "\n",
    "            Max Mustermann\n",
    "        \"\"\",\n",
    "        \"question\":\"Wann ist der Schaden entstanden?\",\n",
    "        \"answer\": \"01.02.2024\",\n",
    "    },\n",
    "    {\n",
    "        \"context\": \"\"\" \n",
    "         Betreff: Meldung eines Fahrraddiebstahls\n",
    "\n",
    "            Sehr geehrte Damen und Herren,\n",
    "\n",
    "            hiermit melde ich den Diebstahl meines Fahrrads, welches zuletzt im Fahrradkeller meines Wohnhauses in der Düsseldorfer Straße 88, 50674 Köln, abgestellt war. Der genaue Zeitpunkt des Diebstahls ist mir leider unbekannt, da ich mein Fahrrad längere Zeit nicht benutzt habe. Zuletzt gesehen habe ich es vor etwa zwei Wochen.\n",
    "\n",
    "            Versicherungsnummer: VF2345678910\n",
    "\n",
    "            Es handelt sich um ein Mountainbike der Marke Trek, Modell Marlin 7, in der Farbe Rot mit schwarzem Rahmendesign. Besondere Merkmale sind die nachgerüsteten Schwalbe Reifen und ein spezieller Brooks-Sattel. Das Fahrrad hat einen Zeitwert von ca. 800€.\n",
    "\n",
    "            Ich habe den Diebstahl bereits bei der Polizei gemeldet, und die Anzeigennummer lautet #KL5678910. Eine Kopie der Diebstahlanzeige kann ich Ihnen gerne zukommen lassen.\n",
    "\n",
    "            Ich bitte um eine schnelle Bearbeitung meiner Schadensmeldung und um Informationen zu weiteren Schritten.\n",
    "\n",
    "            Rückfragen stehe ich gerne unter den folgenden Kontaktdaten zur Verfügung:\n",
    "\n",
    "                Telefon: 0211/9876543\n",
    "                E-Mail: julia.schmidt@email.com\n",
    "\n",
    "            Mit freundlichen Grüßen,\n",
    "\n",
    "            Julia Schmidt\n",
    "        \"\"\",\n",
    "        \"question\": \"Wann ist der Schaden entstanden?\",\n",
    "        \"answer\": \"\",\n",
    "    },\n",
    "]"
   ]
  },
  {
   "cell_type": "code",
   "execution_count": null,
   "metadata": {},
   "outputs": [],
   "source": [
    "print(example_prompt.format(**examples[0]))"
   ]
  },
  {
   "cell_type": "code",
   "execution_count": null,
   "metadata": {},
   "outputs": [],
   "source": [
    "print(example_prompt.format(**examples[1]))"
   ]
  },
  {
   "cell_type": "code",
   "execution_count": null,
   "metadata": {},
   "outputs": [],
   "source": [
    "few_shot_prompt_template = FewShotPromptTemplate(\n",
    "    examples=examples,\n",
    "    example_prompt=example_prompt,\n",
    "    suffix=\"context: {input}\",\n",
    "    input_variables=[\"input\"],\n",
    ")"
   ]
  },
  {
   "cell_type": "code",
   "execution_count": null,
   "metadata": {},
   "outputs": [],
   "source": [
    "print(few_shot_prompt_template.format(input=data[0].page_content))"
   ]
  },
  {
   "cell_type": "code",
   "execution_count": null,
   "metadata": {},
   "outputs": [],
   "source": [
    "few_shot_chain = few_shot_prompt_template | OpenAI(\n",
    "            model_name=\"gpt-3.5-turbo-instruct\",\n",
    "            temperature=0,\n",
    "            openai_api_key=api_key\n",
    "        )"
   ]
  },
  {
   "cell_type": "code",
   "execution_count": null,
   "metadata": {},
   "outputs": [],
   "source": [
    "print(few_shot_chain.invoke({\"input\": few_shot_prompt_template.format(input=data[0].page_content)}))"
   ]
  }
 ],
 "metadata": {
  "kernelspec": {
   "display_name": "langchain-experiments-SQAeIdRz-py3.11",
   "language": "python",
   "name": "python3"
  },
  "language_info": {
   "codemirror_mode": {
    "name": "ipython",
    "version": 3
   },
   "file_extension": ".py",
   "mimetype": "text/x-python",
   "name": "python",
   "nbconvert_exporter": "python",
   "pygments_lexer": "ipython3",
   "version": "3.11.4"
  }
 },
 "nbformat": 4,
 "nbformat_minor": 2
}
