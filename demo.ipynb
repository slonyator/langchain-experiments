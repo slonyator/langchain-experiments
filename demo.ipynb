{
 "cells": [
  {
   "cell_type": "code",
   "execution_count": 72,
   "metadata": {},
   "outputs": [],
   "source": [
    "import os\n",
    "from langchain_openai import OpenAI\n",
    "from dotenv import load_dotenv, find_dotenv\n",
    "from pyprojroot import here\n",
    "from langchain_community.document_loaders import PyPDFLoader\n",
    "from langchain.text_splitter import RecursiveCharacterTextSplitter\n",
    "from langchain_openai import OpenAIEmbeddings\n",
    "from langchain_community.vectorstores import FAISS\n",
    "from langchain.chains import RetrievalQA\n"
   ]
  },
  {
   "cell_type": "code",
   "execution_count": 73,
   "metadata": {},
   "outputs": [],
   "source": [
    "load_dotenv(find_dotenv())\n",
    "api_key = os.environ[\"OPENAI_API_KEY\"]"
   ]
  },
  {
   "cell_type": "code",
   "execution_count": 74,
   "metadata": {},
   "outputs": [
    {
     "name": "stdout",
     "output_type": "stream",
     "text": [
      "[Document(page_content='Schadensmeldung - Sturmschaden an Eigentum\\nEingangszeitpunkt: 23.02.2024 21:35:19\\nSehr geehrte Damen und Herren,\\nich wende mich an Sie, um einen Schaden zu melden, der durch den Sturm am 22.02.2024 an\\nmeinem Eigentum entstanden ist. Als Inhaber einer Hausratversicherung bei der Generali\\nDeutschland Versicherung, Vertragsnummer GH567890123, möchte ich den entstandenen\\nSchaden so schnell wie möglich bearbeitet wissen.\\nAm besagten Tag zog ein schwerer Sturm über unseren Wohnort, der zu erheblichen Schäden an\\nmeiner Wohnung im Kölner Süden, genauer in der Mainzer Straße 45, 50678 Köln, geführt hat.\\nHierbei wurden Fenster beschädigt, wodurch Wasser eindringen konnte und zu Schäden an\\nMöbeln, elektronischen Geräten und weiteren Hausratgegenständen führte.\\nFolgende Gegenstände sind betroffen:\\n- Wohnzimmertisch aus Eiche, Wasserschaden, geschätzter Zeitwert: 200EUR\\n- 55 Zoll Fernsehgerät, Marke Samsung, Wasserschaden, geschätzter Wiederbeschaffungswert:\\n800EUR\\n- Laptop, Marke Lenovo, Wasserschaden, geschätzter Wiederbeschaffungswert: 1200EUR\\n- Verschiedene Bücher und Dekorationsartikel, geschätzter Zeitwert: 150EUR\\nIch habe alle notwendigen Maßnahmen ergriffen, um weitere Schäden zu verhindern und die\\nSicherheit zu gewährleisten. Zudem liegen mir Fotos von den beschädigten Gegenständen und dem\\nSchaden vor, die ich Ihnen gerne zur Verfügung stelle, um den Schaden zu dokumentieren.\\nSeite 1', metadata={'source': '/Users/michael/Coding/langchain-experiments/schadenmeldung.pdf', 'page': 0}), Document(page_content='Schadensmeldung - Sturmschaden an Eigentum\\nIch bitte um eine schnelle Bearbeitung meiner Schadensmeldung und um Informationen über die\\nnächsten Schritte, die von meiner Seite aus erforderlich sind. Für Rückfragen stehe ich Ihnen\\nselbstverständlich zur Verfügung und bin unter meiner Telefonnummer 0221/1234567 oder per\\nE-Mail erreichbar.\\nVielen Dank für Ihre Unterstützung in dieser Angelegenheit.\\nMit freundlichen Grüßen,\\nMax Mustermann\\nMainzer Straße 45\\n50678 Köln\\nE-Mail: max.mustermann@email.de\\nTelefon: 0221/1234567\\nSeite 2', metadata={'source': '/Users/michael/Coding/langchain-experiments/schadenmeldung.pdf', 'page': 1})]\n"
     ]
    }
   ],
   "source": [
    "data = PyPDFLoader(str(here(\"./schadenmeldung.pdf\"))).load()\n",
    "print(data)"
   ]
  },
  {
   "cell_type": "code",
   "execution_count": 75,
   "metadata": {},
   "outputs": [
    {
     "name": "stdout",
     "output_type": "stream",
     "text": [
      "[Document(page_content='Schadensmeldung - Sturmschaden an Eigentum\\nEingangszeitpunkt: 23.02.2024 21:35:19', metadata={'source': '/Users/michael/Coding/langchain-experiments/schadenmeldung.pdf', 'page': 0}), Document(page_content='Sehr geehrte Damen und Herren,', metadata={'source': '/Users/michael/Coding/langchain-experiments/schadenmeldung.pdf', 'page': 0}), Document(page_content='ich wende mich an Sie, um einen Schaden zu melden, der durch den Sturm am 22.02.2024 an', metadata={'source': '/Users/michael/Coding/langchain-experiments/schadenmeldung.pdf', 'page': 0}), Document(page_content='meinem Eigentum entstanden ist. Als Inhaber einer Hausratversicherung bei der Generali', metadata={'source': '/Users/michael/Coding/langchain-experiments/schadenmeldung.pdf', 'page': 0}), Document(page_content='Deutschland Versicherung, Vertragsnummer GH567890123, möchte ich den entstandenen', metadata={'source': '/Users/michael/Coding/langchain-experiments/schadenmeldung.pdf', 'page': 0}), Document(page_content='Schaden so schnell wie möglich bearbeitet wissen.', metadata={'source': '/Users/michael/Coding/langchain-experiments/schadenmeldung.pdf', 'page': 0}), Document(page_content='Am besagten Tag zog ein schwerer Sturm über unseren Wohnort, der zu erheblichen Schäden an', metadata={'source': '/Users/michael/Coding/langchain-experiments/schadenmeldung.pdf', 'page': 0}), Document(page_content='meiner Wohnung im Kölner Süden, genauer in der Mainzer Straße 45, 50678 Köln, geführt hat.', metadata={'source': '/Users/michael/Coding/langchain-experiments/schadenmeldung.pdf', 'page': 0}), Document(page_content='Hierbei wurden Fenster beschädigt, wodurch Wasser eindringen konnte und zu Schäden an', metadata={'source': '/Users/michael/Coding/langchain-experiments/schadenmeldung.pdf', 'page': 0}), Document(page_content='Möbeln, elektronischen Geräten und weiteren Hausratgegenständen führte.', metadata={'source': '/Users/michael/Coding/langchain-experiments/schadenmeldung.pdf', 'page': 0}), Document(page_content='Folgende Gegenstände sind betroffen:', metadata={'source': '/Users/michael/Coding/langchain-experiments/schadenmeldung.pdf', 'page': 0}), Document(page_content='- Wohnzimmertisch aus Eiche, Wasserschaden, geschätzter Zeitwert: 200EUR', metadata={'source': '/Users/michael/Coding/langchain-experiments/schadenmeldung.pdf', 'page': 0}), Document(page_content='- 55 Zoll Fernsehgerät, Marke Samsung, Wasserschaden, geschätzter Wiederbeschaffungswert:\\n800EUR', metadata={'source': '/Users/michael/Coding/langchain-experiments/schadenmeldung.pdf', 'page': 0}), Document(page_content='800EUR\\n- Laptop, Marke Lenovo, Wasserschaden, geschätzter Wiederbeschaffungswert: 1200EUR', metadata={'source': '/Users/michael/Coding/langchain-experiments/schadenmeldung.pdf', 'page': 0}), Document(page_content='- Verschiedene Bücher und Dekorationsartikel, geschätzter Zeitwert: 150EUR', metadata={'source': '/Users/michael/Coding/langchain-experiments/schadenmeldung.pdf', 'page': 0}), Document(page_content='Ich habe alle notwendigen Maßnahmen ergriffen, um weitere Schäden zu verhindern und die', metadata={'source': '/Users/michael/Coding/langchain-experiments/schadenmeldung.pdf', 'page': 0}), Document(page_content='Sicherheit zu gewährleisten. Zudem liegen mir Fotos von den beschädigten Gegenständen und dem', metadata={'source': '/Users/michael/Coding/langchain-experiments/schadenmeldung.pdf', 'page': 0}), Document(page_content='Schaden vor, die ich Ihnen gerne zur Verfügung stelle, um den Schaden zu dokumentieren.\\nSeite 1', metadata={'source': '/Users/michael/Coding/langchain-experiments/schadenmeldung.pdf', 'page': 0}), Document(page_content='Schadensmeldung - Sturmschaden an Eigentum', metadata={'source': '/Users/michael/Coding/langchain-experiments/schadenmeldung.pdf', 'page': 1}), Document(page_content='Ich bitte um eine schnelle Bearbeitung meiner Schadensmeldung und um Informationen über die', metadata={'source': '/Users/michael/Coding/langchain-experiments/schadenmeldung.pdf', 'page': 1}), Document(page_content='nächsten Schritte, die von meiner Seite aus erforderlich sind. Für Rückfragen stehe ich Ihnen', metadata={'source': '/Users/michael/Coding/langchain-experiments/schadenmeldung.pdf', 'page': 1}), Document(page_content='selbstverständlich zur Verfügung und bin unter meiner Telefonnummer 0221/1234567 oder per', metadata={'source': '/Users/michael/Coding/langchain-experiments/schadenmeldung.pdf', 'page': 1}), Document(page_content='E-Mail erreichbar.\\nVielen Dank für Ihre Unterstützung in dieser Angelegenheit.', metadata={'source': '/Users/michael/Coding/langchain-experiments/schadenmeldung.pdf', 'page': 1}), Document(page_content='Mit freundlichen Grüßen,\\nMax Mustermann\\nMainzer Straße 45\\n50678 Köln', metadata={'source': '/Users/michael/Coding/langchain-experiments/schadenmeldung.pdf', 'page': 1}), Document(page_content='50678 Köln\\nE-Mail: max.mustermann@email.de\\nTelefon: 0221/1234567\\nSeite 2', metadata={'source': '/Users/michael/Coding/langchain-experiments/schadenmeldung.pdf', 'page': 1})]\n"
     ]
    }
   ],
   "source": [
    "splitter = RecursiveCharacterTextSplitter(\n",
    "    chunk_size=100,\n",
    "    chunk_overlap=25,\n",
    ")\n",
    "\n",
    "docs = splitter.split_documents(data)\n",
    "print(docs)"
   ]
  },
  {
   "cell_type": "code",
   "execution_count": 76,
   "metadata": {},
   "outputs": [],
   "source": [
    "embedding_function = OpenAIEmbeddings(openai_api_key=api_key)\n",
    "\n",
    "vectordb = FAISS.from_documents(\n",
    "    docs,\n",
    "    embedding_function,\n",
    ")\n",
    "\n",
    "vectordb.save_local(str(here(\"./\")))"
   ]
  },
  {
   "cell_type": "code",
   "execution_count": 77,
   "metadata": {},
   "outputs": [],
   "source": [
    "qa = RetrievalQA.from_chain_type(\n",
    "        llm=OpenAI(\n",
    "            model_name=\"gpt-3.5-turbo-instruct\",\n",
    "            temperature=0,\n",
    "            openai_api_key=api_key\n",
    "        ), \n",
    "        chain_type=\"stuff\", \n",
    "        retriever=vectordb.as_retriever()\n",
    "    )"
   ]
  },
  {
   "cell_type": "code",
   "execution_count": 78,
   "metadata": {},
   "outputs": [
    {
     "name": "stdout",
     "output_type": "stream",
     "text": [
      "{'query': 'Wann ist der Schaden entstanden?', 'result': ' Der Schaden ist am 23.02.2024 um 21:35:19 entstanden.'}\n"
     ]
    }
   ],
   "source": [
    "print(qa.invoke(\"Wann ist der Schaden entstanden?\"))"
   ]
  },
  {
   "cell_type": "code",
   "execution_count": 79,
   "metadata": {},
   "outputs": [
    {
     "name": "stdout",
     "output_type": "stream",
     "text": [
      "{'query': 'Wann ist die Meldung eingegangen?', 'result': ' Die Meldung ist am 23.02.2024 um 21:35:19 eingegangen.'}\n"
     ]
    }
   ],
   "source": [
    "print(qa.invoke(\"Wann ist die Meldung eingegangen?\"))"
   ]
  },
  {
   "cell_type": "code",
   "execution_count": 80,
   "metadata": {},
   "outputs": [
    {
     "name": "stdout",
     "output_type": "stream",
     "text": [
      "{'query': 'Fasse den Inhalt des Dokuments in einem Satz zusammen', 'result': ' Das Dokument beinhaltet eine Schadensmeldung für einen Sturmschaden an Eigentum, der zu Schäden an Möbeln, elektronischen Geräten und weiteren Hausratgegenständen geführt hat.'}\n"
     ]
    }
   ],
   "source": [
    "print(qa.invoke(\"Fasse den Inhalt des Dokuments in einem Satz zusammen\"))"
   ]
  },
  {
   "cell_type": "code",
   "execution_count": 81,
   "metadata": {},
   "outputs": [
    {
     "name": "stdout",
     "output_type": "stream",
     "text": [
      "{'query': 'Frage: An welchem Datum ist der Schaden entstaden? Hinweis: Es kann das gleiche Datum wie das Eingangsdatum der Schadenmeldung sein, es kann jedoch auch ein anderes Datum sein. Gesucht wird das Datum, an dem tatsächlich etwas beschädigt wurde.', 'result': ' Das Datum, an dem der Sturmschaden an dem Eigentum entstanden ist, ist nicht angegeben. Es kann das gleiche Datum wie das Eingangsdatum der Schadenmeldung sein oder ein anderes Datum. Es ist nicht eindeutig aus dem gegebenen Kontext ersichtlich.'}\n"
     ]
    }
   ],
   "source": [
    "print(qa.invoke(\"Frage: An welchem Datum ist der Schaden entstaden? Hinweis: Es kann das gleiche Datum wie das Eingangsdatum der Schadenmeldung sein, es kann jedoch auch ein anderes Datum sein. Gesucht wird das Datum, an dem tatsächlich etwas beschädigt wurde.\"))"
   ]
  },
  {
   "cell_type": "code",
   "execution_count": 82,
   "metadata": {},
   "outputs": [
    {
     "name": "stdout",
     "output_type": "stream",
     "text": [
      "{'query': 'In welche Kategorie passt die Meldung am besten? Sturm, Leitungswasser, Elementar, Einbruch, Diebstahl, Feuer, Sonstiges', 'result': ' Sturm'}\n"
     ]
    }
   ],
   "source": [
    "print(qa.invoke(\"In welche Kategorie passt die Meldung am besten? Sturm, Leitungswasser, Elementar, Einbruch, Diebstahl, Feuer, Sonstiges\"))"
   ]
  },
  {
   "cell_type": "code",
   "execution_count": 83,
   "metadata": {},
   "outputs": [
    {
     "name": "stdout",
     "output_type": "stream",
     "text": [
      "{'query': 'An welchem Datum war der Sturm, durch den der Schaden entstanden ist?', 'result': ' Der Sturm war am 22.02.2024.'}\n"
     ]
    }
   ],
   "source": [
    "print(qa.invoke(\"An welchem Datum war der Sturm, durch den der Schaden entstanden ist?\"))"
   ]
  },
  {
   "cell_type": "markdown",
   "metadata": {},
   "source": [
    "## Few-Shot-Approach"
   ]
  },
  {
   "cell_type": "code",
   "execution_count": 84,
   "metadata": {},
   "outputs": [],
   "source": [
    "from langchain.prompts.few_shot import FewShotPromptTemplate\n",
    "from langchain.prompts.prompt import PromptTemplate"
   ]
  },
  {
   "cell_type": "code",
   "execution_count": 85,
   "metadata": {},
   "outputs": [],
   "source": [
    "template = \"context: {context} \\n question: {question} \\n answer: {answer}\""
   ]
  },
  {
   "cell_type": "code",
   "execution_count": 86,
   "metadata": {},
   "outputs": [],
   "source": [
    "example_prompt = PromptTemplate(\n",
    "    input_variables=[\"context\", \"question\", \"answer\"],\n",
    "    template=template,    \n",
    ")"
   ]
  },
  {
   "cell_type": "code",
   "execution_count": 87,
   "metadata": {},
   "outputs": [],
   "source": [
    "examples = [\n",
    "    {\n",
    "        \"context\": \"\"\"\n",
    "            Betreff: Leitungswasserschaden in der Wohnung - Meldung vom 01.02.2024\n",
    "\n",
    "            Sehr geehrte Damen und Herren,\n",
    "\n",
    "            ich melde einen Leitungswasserschaden in meiner Wohnung in Köln-Süd (Mainzer Straße 45, 50678 Köln), der am 01.02.2024 gegen 12Uhr festgestellt wurde.\n",
    "\n",
    "            Versicherungsnummer: GH567890123\n",
    "\n",
    "            Der Schaden ist durch einen Defekt an einer Wasserleitung entstanden. Infolge des Lecks trat Wasser aus und beschädigte Teile der Wohnung sowie Hausrat.\n",
    "\n",
    "            Betroffene Bereiche:\n",
    "\n",
    "            Küche: Wasserschäden an Wänden, Boden und Fliesen\n",
    "            Wohnzimmer: Wasserschäden an Parkett und Möbeln\n",
    "            Schlafzimmer: Wasserschäden an Teppich und Dekoartikeln\n",
    "\n",
    "            Betroffene Gegenstände:\n",
    "\n",
    "                Einbauküche (Marke: X, Modell: Y, Zeitwert: 5.000€)\n",
    "                Sofa (Marke: Z, Modell: W, Zeitwert: 1.000€)\n",
    "                Bett (Marke: A, Modell: B, Zeitwert: 800€)\n",
    "\n",
    "            Fotos der Schäden sind vorhanden und können auf Anfrage zur Verfügung gestellt werden.\n",
    "\n",
    "            Ich habe bereits alle notwendigen Maßnahmen ergriffen, um weitere Schäden zu verhindern, z.B. die Wasserzufuhr abgestellt und einen Fachmann für die Trocknung der betroffenen Räume beauftragt.\n",
    "\n",
    "            Ich bitte um eine schnelle Bearbeitung meiner Schadensmeldung und um Informationen zu weiteren Schritten.\n",
    "\n",
    "            Rückfragen unter:\n",
    "\n",
    "                Telefon: 0221/1234567\n",
    "                E-Mail: max.mustermann@email.de\n",
    "\n",
    "            Mit freundlichen Grüßen,    \n",
    "\n",
    "            Max Mustermann\n",
    "        \"\"\",\n",
    "        \"question\":\"Wann ist der Schaden entstanden?\",\n",
    "        \"answer\": \"01.02.2024\",\n",
    "    },\n",
    "    {\n",
    "        \"context\": \"\"\" \n",
    "         Betreff: Meldung eines Fahrraddiebstahls\n",
    "\n",
    "            Sehr geehrte Damen und Herren,\n",
    "\n",
    "            hiermit melde ich den Diebstahl meines Fahrrads, welches zuletzt im Fahrradkeller meines Wohnhauses in der Düsseldorfer Straße 88, 50674 Köln, abgestellt war. Der genaue Zeitpunkt des Diebstahls ist mir leider unbekannt, da ich mein Fahrrad längere Zeit nicht benutzt habe. Zuletzt gesehen habe ich es vor etwa zwei Wochen.\n",
    "\n",
    "            Versicherungsnummer: VF2345678910\n",
    "\n",
    "            Es handelt sich um ein Mountainbike der Marke Trek, Modell Marlin 7, in der Farbe Rot mit schwarzem Rahmendesign. Besondere Merkmale sind die nachgerüsteten Schwalbe Reifen und ein spezieller Brooks-Sattel. Das Fahrrad hat einen Zeitwert von ca. 800€.\n",
    "\n",
    "            Ich habe den Diebstahl bereits bei der Polizei gemeldet, und die Anzeigennummer lautet #KL5678910. Eine Kopie der Diebstahlanzeige kann ich Ihnen gerne zukommen lassen.\n",
    "\n",
    "            Ich bitte um eine schnelle Bearbeitung meiner Schadensmeldung und um Informationen zu weiteren Schritten.\n",
    "\n",
    "            Rückfragen stehe ich gerne unter den folgenden Kontaktdaten zur Verfügung:\n",
    "\n",
    "                Telefon: 0211/9876543\n",
    "                E-Mail: julia.schmidt@email.com\n",
    "\n",
    "            Mit freundlichen Grüßen,\n",
    "\n",
    "            Julia Schmidt\n",
    "        \"\"\",\n",
    "        \"question\": \"Wann ist der Schaden entstanden?\",\n",
    "        \"answer\": \"\",\n",
    "    },\n",
    "]"
   ]
  },
  {
   "cell_type": "code",
   "execution_count": 88,
   "metadata": {},
   "outputs": [
    {
     "name": "stdout",
     "output_type": "stream",
     "text": [
      "context: \n",
      "            Betreff: Leitungswasserschaden in der Wohnung - Meldung vom 01.02.2024\n",
      "\n",
      "            Sehr geehrte Damen und Herren,\n",
      "\n",
      "            ich melde einen Leitungswasserschaden in meiner Wohnung in Köln-Süd (Mainzer Straße 45, 50678 Köln), der am 01.02.2024 gegen 12Uhr festgestellt wurde.\n",
      "\n",
      "            Versicherungsnummer: GH567890123\n",
      "\n",
      "            Der Schaden ist durch einen Defekt an einer Wasserleitung entstanden. Infolge des Lecks trat Wasser aus und beschädigte Teile der Wohnung sowie Hausrat.\n",
      "\n",
      "            Betroffene Bereiche:\n",
      "\n",
      "            Küche: Wasserschäden an Wänden, Boden und Fliesen\n",
      "            Wohnzimmer: Wasserschäden an Parkett und Möbeln\n",
      "            Schlafzimmer: Wasserschäden an Teppich und Dekoartikeln\n",
      "\n",
      "            Betroffene Gegenstände:\n",
      "\n",
      "                Einbauküche (Marke: X, Modell: Y, Zeitwert: 5.000€)\n",
      "                Sofa (Marke: Z, Modell: W, Zeitwert: 1.000€)\n",
      "                Bett (Marke: A, Modell: B, Zeitwert: 800€)\n",
      "\n",
      "            Fotos der Schäden sind vorhanden und können auf Anfrage zur Verfügung gestellt werden.\n",
      "\n",
      "            Ich habe bereits alle notwendigen Maßnahmen ergriffen, um weitere Schäden zu verhindern, z.B. die Wasserzufuhr abgestellt und einen Fachmann für die Trocknung der betroffenen Räume beauftragt.\n",
      "\n",
      "            Ich bitte um eine schnelle Bearbeitung meiner Schadensmeldung und um Informationen zu weiteren Schritten.\n",
      "\n",
      "            Rückfragen unter:\n",
      "\n",
      "                Telefon: 0221/1234567\n",
      "                E-Mail: max.mustermann@email.de\n",
      "\n",
      "            Mit freundlichen Grüßen,    \n",
      "\n",
      "            Max Mustermann\n",
      "         \n",
      " question: Wann ist der Schaden entstanden? \n",
      " answer: 01.02.2024\n"
     ]
    }
   ],
   "source": [
    "print(example_prompt.format(**examples[0]))"
   ]
  },
  {
   "cell_type": "code",
   "execution_count": 89,
   "metadata": {},
   "outputs": [
    {
     "name": "stdout",
     "output_type": "stream",
     "text": [
      "context:  \n",
      "         Betreff: Meldung eines Fahrraddiebstahls\n",
      "\n",
      "            Sehr geehrte Damen und Herren,\n",
      "\n",
      "            hiermit melde ich den Diebstahl meines Fahrrads, welches zuletzt im Fahrradkeller meines Wohnhauses in der Düsseldorfer Straße 88, 50674 Köln, abgestellt war. Der genaue Zeitpunkt des Diebstahls ist mir leider unbekannt, da ich mein Fahrrad längere Zeit nicht benutzt habe. Zuletzt gesehen habe ich es vor etwa zwei Wochen.\n",
      "\n",
      "            Versicherungsnummer: VF2345678910\n",
      "\n",
      "            Es handelt sich um ein Mountainbike der Marke Trek, Modell Marlin 7, in der Farbe Rot mit schwarzem Rahmendesign. Besondere Merkmale sind die nachgerüsteten Schwalbe Reifen und ein spezieller Brooks-Sattel. Das Fahrrad hat einen Zeitwert von ca. 800€.\n",
      "\n",
      "            Ich habe den Diebstahl bereits bei der Polizei gemeldet, und die Anzeigennummer lautet #KL5678910. Eine Kopie der Diebstahlanzeige kann ich Ihnen gerne zukommen lassen.\n",
      "\n",
      "            Ich bitte um eine schnelle Bearbeitung meiner Schadensmeldung und um Informationen zu weiteren Schritten.\n",
      "\n",
      "            Rückfragen stehe ich gerne unter den folgenden Kontaktdaten zur Verfügung:\n",
      "\n",
      "                Telefon: 0211/9876543\n",
      "                E-Mail: julia.schmidt@email.com\n",
      "\n",
      "            Mit freundlichen Grüßen,\n",
      "\n",
      "            Julia Schmidt\n",
      "         \n",
      " question: Wann ist der Schaden entstanden? \n",
      " answer: \n"
     ]
    }
   ],
   "source": [
    "print(example_prompt.format(**examples[1]))"
   ]
  },
  {
   "cell_type": "code",
   "execution_count": 90,
   "metadata": {},
   "outputs": [],
   "source": [
    "few_shot_prompt_template = FewShotPromptTemplate(\n",
    "    examples=examples,\n",
    "    example_prompt=example_prompt,\n",
    "    suffix=\"context: {input}\",\n",
    "    input_variables=[\"input\"],\n",
    ")"
   ]
  },
  {
   "cell_type": "code",
   "execution_count": 91,
   "metadata": {},
   "outputs": [
    {
     "name": "stdout",
     "output_type": "stream",
     "text": [
      "context: \n",
      "            Betreff: Leitungswasserschaden in der Wohnung - Meldung vom 01.02.2024\n",
      "\n",
      "            Sehr geehrte Damen und Herren,\n",
      "\n",
      "            ich melde einen Leitungswasserschaden in meiner Wohnung in Köln-Süd (Mainzer Straße 45, 50678 Köln), der am 01.02.2024 gegen 12Uhr festgestellt wurde.\n",
      "\n",
      "            Versicherungsnummer: GH567890123\n",
      "\n",
      "            Der Schaden ist durch einen Defekt an einer Wasserleitung entstanden. Infolge des Lecks trat Wasser aus und beschädigte Teile der Wohnung sowie Hausrat.\n",
      "\n",
      "            Betroffene Bereiche:\n",
      "\n",
      "            Küche: Wasserschäden an Wänden, Boden und Fliesen\n",
      "            Wohnzimmer: Wasserschäden an Parkett und Möbeln\n",
      "            Schlafzimmer: Wasserschäden an Teppich und Dekoartikeln\n",
      "\n",
      "            Betroffene Gegenstände:\n",
      "\n",
      "                Einbauküche (Marke: X, Modell: Y, Zeitwert: 5.000€)\n",
      "                Sofa (Marke: Z, Modell: W, Zeitwert: 1.000€)\n",
      "                Bett (Marke: A, Modell: B, Zeitwert: 800€)\n",
      "\n",
      "            Fotos der Schäden sind vorhanden und können auf Anfrage zur Verfügung gestellt werden.\n",
      "\n",
      "            Ich habe bereits alle notwendigen Maßnahmen ergriffen, um weitere Schäden zu verhindern, z.B. die Wasserzufuhr abgestellt und einen Fachmann für die Trocknung der betroffenen Räume beauftragt.\n",
      "\n",
      "            Ich bitte um eine schnelle Bearbeitung meiner Schadensmeldung und um Informationen zu weiteren Schritten.\n",
      "\n",
      "            Rückfragen unter:\n",
      "\n",
      "                Telefon: 0221/1234567\n",
      "                E-Mail: max.mustermann@email.de\n",
      "\n",
      "            Mit freundlichen Grüßen,    \n",
      "\n",
      "            Max Mustermann\n",
      "         \n",
      " question: Wann ist der Schaden entstanden? \n",
      " answer: 01.02.2024\n",
      "\n",
      "context:  \n",
      "         Betreff: Meldung eines Fahrraddiebstahls\n",
      "\n",
      "            Sehr geehrte Damen und Herren,\n",
      "\n",
      "            hiermit melde ich den Diebstahl meines Fahrrads, welches zuletzt im Fahrradkeller meines Wohnhauses in der Düsseldorfer Straße 88, 50674 Köln, abgestellt war. Der genaue Zeitpunkt des Diebstahls ist mir leider unbekannt, da ich mein Fahrrad längere Zeit nicht benutzt habe. Zuletzt gesehen habe ich es vor etwa zwei Wochen.\n",
      "\n",
      "            Versicherungsnummer: VF2345678910\n",
      "\n",
      "            Es handelt sich um ein Mountainbike der Marke Trek, Modell Marlin 7, in der Farbe Rot mit schwarzem Rahmendesign. Besondere Merkmale sind die nachgerüsteten Schwalbe Reifen und ein spezieller Brooks-Sattel. Das Fahrrad hat einen Zeitwert von ca. 800€.\n",
      "\n",
      "            Ich habe den Diebstahl bereits bei der Polizei gemeldet, und die Anzeigennummer lautet #KL5678910. Eine Kopie der Diebstahlanzeige kann ich Ihnen gerne zukommen lassen.\n",
      "\n",
      "            Ich bitte um eine schnelle Bearbeitung meiner Schadensmeldung und um Informationen zu weiteren Schritten.\n",
      "\n",
      "            Rückfragen stehe ich gerne unter den folgenden Kontaktdaten zur Verfügung:\n",
      "\n",
      "                Telefon: 0211/9876543\n",
      "                E-Mail: julia.schmidt@email.com\n",
      "\n",
      "            Mit freundlichen Grüßen,\n",
      "\n",
      "            Julia Schmidt\n",
      "         \n",
      " question: Wann ist der Schaden entstanden? \n",
      " answer: \n",
      "\n",
      "context: Schadensmeldung - Sturmschaden an Eigentum\n",
      "Eingangszeitpunkt: 23.02.2024 21:35:19\n",
      "Sehr geehrte Damen und Herren,\n",
      "ich wende mich an Sie, um einen Schaden zu melden, der durch den Sturm am 22.02.2024 an\n",
      "meinem Eigentum entstanden ist. Als Inhaber einer Hausratversicherung bei der Generali\n",
      "Deutschland Versicherung, Vertragsnummer GH567890123, möchte ich den entstandenen\n",
      "Schaden so schnell wie möglich bearbeitet wissen.\n",
      "Am besagten Tag zog ein schwerer Sturm über unseren Wohnort, der zu erheblichen Schäden an\n",
      "meiner Wohnung im Kölner Süden, genauer in der Mainzer Straße 45, 50678 Köln, geführt hat.\n",
      "Hierbei wurden Fenster beschädigt, wodurch Wasser eindringen konnte und zu Schäden an\n",
      "Möbeln, elektronischen Geräten und weiteren Hausratgegenständen führte.\n",
      "Folgende Gegenstände sind betroffen:\n",
      "- Wohnzimmertisch aus Eiche, Wasserschaden, geschätzter Zeitwert: 200EUR\n",
      "- 55 Zoll Fernsehgerät, Marke Samsung, Wasserschaden, geschätzter Wiederbeschaffungswert:\n",
      "800EUR\n",
      "- Laptop, Marke Lenovo, Wasserschaden, geschätzter Wiederbeschaffungswert: 1200EUR\n",
      "- Verschiedene Bücher und Dekorationsartikel, geschätzter Zeitwert: 150EUR\n",
      "Ich habe alle notwendigen Maßnahmen ergriffen, um weitere Schäden zu verhindern und die\n",
      "Sicherheit zu gewährleisten. Zudem liegen mir Fotos von den beschädigten Gegenständen und dem\n",
      "Schaden vor, die ich Ihnen gerne zur Verfügung stelle, um den Schaden zu dokumentieren.\n",
      "Seite 1\n"
     ]
    }
   ],
   "source": [
    "print(few_shot_prompt_template.format(input=data[0].page_content))"
   ]
  },
  {
   "cell_type": "code",
   "execution_count": 92,
   "metadata": {},
   "outputs": [],
   "source": [
    "few_shot_chain = few_shot_prompt_template | OpenAI(\n",
    "            model_name=\"gpt-3.5-turbo-instruct\",\n",
    "            temperature=0,\n",
    "            openai_api_key=api_key\n",
    "        )"
   ]
  },
  {
   "cell_type": "code",
   "execution_count": 93,
   "metadata": {},
   "outputs": [
    {
     "data": {
      "text/plain": [
       "' von 2\\nIch bitte Sie, den Schaden schnellstmöglich zu bearbeiten und mich über den weiteren Verlauf zu\\ninformieren. Für Rückfragen stehe ich Ihnen unter den folgenden Kontaktdaten zur Verfügung:\\nTelefon: 0221/1234567\\nE-Mail: max.mustermann@email.de\\nMit freundlichen Grüßen,\\nMax Mustermann\\n\\nquestion: Wann ist der Schaden entstanden? \\nanswer: 22.02.2024'"
      ]
     },
     "execution_count": 93,
     "metadata": {},
     "output_type": "execute_result"
    }
   ],
   "source": [
    "few_shot_chain.invoke({\"input\": few_shot_prompt_template.format(input=data[0].page_content)})"
   ]
  }
 ],
 "metadata": {
  "kernelspec": {
   "display_name": "langchain-experiments-SQAeIdRz-py3.11",
   "language": "python",
   "name": "python3"
  },
  "language_info": {
   "codemirror_mode": {
    "name": "ipython",
    "version": 3
   },
   "file_extension": ".py",
   "mimetype": "text/x-python",
   "name": "python",
   "nbconvert_exporter": "python",
   "pygments_lexer": "ipython3",
   "version": "3.11.4"
  }
 },
 "nbformat": 4,
 "nbformat_minor": 2
}
