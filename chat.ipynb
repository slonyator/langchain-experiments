{
 "cells": [
  {
   "cell_type": "markdown",
   "metadata": {},
   "source": [
    "# Invoking LLMs"
   ]
  },
  {
   "cell_type": "code",
   "execution_count": 1,
   "metadata": {},
   "outputs": [],
   "source": [
    "import os\n",
    "from openai import OpenAI\n",
    "from dotenv import load_dotenv, find_dotenv"
   ]
  },
  {
   "cell_type": "code",
   "execution_count": 2,
   "metadata": {},
   "outputs": [],
   "source": [
    "load_dotenv(find_dotenv())\n",
    "api_key = os.environ[\"OPENAI_API_KEY\"]"
   ]
  },
  {
   "cell_type": "code",
   "execution_count": 3,
   "metadata": {},
   "outputs": [],
   "source": [
    "content = \"Was kannst Du mir über die Generali Deutschland AG sagen?\""
   ]
  },
  {
   "cell_type": "code",
   "execution_count": 4,
   "metadata": {},
   "outputs": [],
   "source": [
    "client = OpenAI(\n",
    " api_key=api_key,\n",
    ")\n",
    "\n",
    "response = client.chat.completions.create(\n",
    "    messages=[\n",
    "        {\n",
    "            \"role\": \"user\",\n",
    "            \"content\": content,\n",
    "        }\n",
    "    ],\n",
    "    model=\"gpt-3.5-turbo\",\n",
    "    temperature=0.99,\n",
    ")\n"
   ]
  },
  {
   "cell_type": "code",
   "execution_count": 5,
   "metadata": {},
   "outputs": [
    {
     "name": "stdout",
     "output_type": "stream",
     "text": [
      "Die Generali Deutschland AG ist ein deutsches Versicherungsunternehmen und Teil der international tätigen Generali Gruppe. Das Unternehmen wurde im Jahr 1903 gegründet und hat seinen Hauptsitz in München. Die Generali Deutschland AG bietet eine breite Palette von Versicherungsprodukten für Privat- und Geschäftskunden an, darunter Lebensversicherungen, Krankenversicherungen, Sachversicherungen und Haftpflichtversicherungen. Die Generali Deutschland AG gehört zu den größten Versicherungsunternehmen in Deutschland und beschäftigt mehrere tausend Mitarbeiter.\n"
     ]
    }
   ],
   "source": [
    "print(response.choices[0].message.content)"
   ]
  },
  {
   "cell_type": "markdown",
   "metadata": {},
   "source": [
    "# LangChain Prompts"
   ]
  },
  {
   "cell_type": "code",
   "execution_count": 6,
   "metadata": {},
   "outputs": [],
   "source": [
    "from langchain_openai import ChatOpenAI\n",
    "from langchain_core.prompts import ChatPromptTemplate"
   ]
  },
  {
   "cell_type": "code",
   "execution_count": 7,
   "metadata": {},
   "outputs": [],
   "source": [
    "llm = ChatOpenAI(temperature=0.5, api_key=api_key)\n",
    "\n",
    "prompt_template = ChatPromptTemplate.from_messages(\n",
    "    [\n",
    "        (\"system\", \"Du bist ein intelligenter Assistent, der Sachbearbeiter einer Versicherungsgesellschaft in sämtlichen Fragestellungen unterstützt\"),\n",
    "        (\"human\", \"Beantworte die Frage: {question}\"),\n",
    "    ]\n",
    ")\n",
    "\n",
    "prompt = prompt_template.format_messages(question=\"Was kannst Du mir über die Generali Deutschland AG sagen?\")"
   ]
  },
  {
   "cell_type": "code",
   "execution_count": 8,
   "metadata": {},
   "outputs": [
    {
     "name": "stderr",
     "output_type": "stream",
     "text": [
      "/Users/michael/Library/Caches/pypoetry/virtualenvs/langchain-experiments-SQAeIdRz-py3.11/lib/python3.11/site-packages/langchain_core/_api/deprecation.py:117: LangChainDeprecationWarning: The function `__call__` was deprecated in LangChain 0.1.7 and will be removed in 0.2.0. Use invoke instead.\n",
      "  warn_deprecated(\n"
     ]
    },
    {
     "name": "stdout",
     "output_type": "stream",
     "text": [
      "content='Die Generali Deutschland AG ist ein Teil der internationalen Generali Gruppe und gehört zu den führenden Versicherungsunternehmen in Deutschland. Die Generali Deutschland AG bietet eine breite Palette von Versicherungsprodukten für Privat- und Geschäftskunden an, darunter Lebensversicherungen, Krankenversicherungen, Haftpflichtversicherungen, Sachversicherungen und vieles mehr. Das Unternehmen legt großen Wert auf Nachhaltigkeit und soziale Verantwortung.'\n"
     ]
    }
   ],
   "source": [
    "respone = llm(prompt)\n",
    "print(respone)"
   ]
  },
  {
   "cell_type": "markdown",
   "metadata": {},
   "source": [
    "# Memory"
   ]
  },
  {
   "cell_type": "markdown",
   "metadata": {},
   "source": [
    "## Conversation Buffer Memory"
   ]
  },
  {
   "cell_type": "code",
   "execution_count": 9,
   "metadata": {},
   "outputs": [],
   "source": [
    "from langchain.memory import ConversationBufferMemory\n",
    "from langchain_openai import OpenAI\n",
    "from langchain.chains import ConversationChain"
   ]
  },
  {
   "cell_type": "markdown",
   "metadata": {},
   "source": [
    "See the difference between ChatOpenAI vs. OpenAI: https://stackoverflow.com/questions/76950609/what-is-the-difference-between-openai-and-chatopenai-in-langchain"
   ]
  },
  {
   "cell_type": "code",
   "execution_count": 10,
   "metadata": {},
   "outputs": [],
   "source": [
    "chat = OpenAI(\n",
    "    model_name=\"gpt-3.5-turbo-instruct\", \n",
    "    temperature=0, \n",
    "    openai_api_key=api_key\n",
    ")\n",
    "\n",
    "memory = ConversationBufferMemory(size=4)\n",
    "buffer_chain = ConversationChain(llm=chat, memory=memory, verbose=True)"
   ]
  },
  {
   "cell_type": "markdown",
   "metadata": {},
   "source": [
    "`verbose=True` is helpful to understand the model's reasoning!"
   ]
  },
  {
   "cell_type": "code",
   "execution_count": 11,
   "metadata": {},
   "outputs": [
    {
     "name": "stdout",
     "output_type": "stream",
     "text": [
      "\n",
      "\n",
      "\u001b[1m> Entering new ConversationChain chain...\u001b[0m\n",
      "Prompt after formatting:\n",
      "\u001b[32;1m\u001b[1;3mThe following is a friendly conversation between a human and an AI. The AI is talkative and provides lots of specific details from its context. If the AI does not know the answer to a question, it truthfully says it does not know.\n",
      "\n",
      "Current conversation:\n",
      "\n",
      "Human: Beschreibe die Generali Deutschland AG\n",
      "AI:\u001b[0m\n",
      "\n",
      "\u001b[1m> Finished chain.\u001b[0m\n",
      "\n",
      "\n",
      "\u001b[1m> Entering new ConversationChain chain...\u001b[0m\n",
      "Prompt after formatting:\n",
      "\u001b[32;1m\u001b[1;3mThe following is a friendly conversation between a human and an AI. The AI is talkative and provides lots of specific details from its context. If the AI does not know the answer to a question, it truthfully says it does not know.\n",
      "\n",
      "Current conversation:\n",
      "Human: Beschreibe die Generali Deutschland AG\n",
      "AI:  Die Generali Deutschland AG ist ein deutsches Versicherungsunternehmen mit Hauptsitz in München. Sie wurde 1824 gegründet und ist Teil der internationalen Generali Group, die in über 50 Ländern tätig ist. Die Generali Deutschland AG bietet ein breites Spektrum an Versicherungs- und Finanzdienstleistungen für Privat- und Geschäftskunden an. Dazu gehören unter anderem Lebensversicherungen, Krankenversicherungen, Haftpflichtversicherungen und Altersvorsorgeprodukte. Das Unternehmen beschäftigt rund 17.000 Mitarbeiter und betreut mehr als 13 Millionen Kunden in Deutschland. Es ist eines der größten Versicherungsunternehmen in Deutschland und gehört zu den Top 10 der Branche weltweit.\n",
      "Human: Benutze weniger Worte für die Beschreibung\n",
      "AI:\u001b[0m\n",
      "\n",
      "\u001b[1m> Finished chain.\u001b[0m\n",
      "\n",
      "\n",
      "\u001b[1m> Entering new ConversationChain chain...\u001b[0m\n",
      "Prompt after formatting:\n",
      "\u001b[32;1m\u001b[1;3mThe following is a friendly conversation between a human and an AI. The AI is talkative and provides lots of specific details from its context. If the AI does not know the answer to a question, it truthfully says it does not know.\n",
      "\n",
      "Current conversation:\n",
      "Human: Beschreibe die Generali Deutschland AG\n",
      "AI:  Die Generali Deutschland AG ist ein deutsches Versicherungsunternehmen mit Hauptsitz in München. Sie wurde 1824 gegründet und ist Teil der internationalen Generali Group, die in über 50 Ländern tätig ist. Die Generali Deutschland AG bietet ein breites Spektrum an Versicherungs- und Finanzdienstleistungen für Privat- und Geschäftskunden an. Dazu gehören unter anderem Lebensversicherungen, Krankenversicherungen, Haftpflichtversicherungen und Altersvorsorgeprodukte. Das Unternehmen beschäftigt rund 17.000 Mitarbeiter und betreut mehr als 13 Millionen Kunden in Deutschland. Es ist eines der größten Versicherungsunternehmen in Deutschland und gehört zu den Top 10 der Branche weltweit.\n",
      "Human: Benutze weniger Worte für die Beschreibung\n",
      "AI:  Die Generali Deutschland AG ist ein deutsches Versicherungsunternehmen mit Sitz in München. Es bietet eine Vielzahl von Versicherungs- und Finanzdienstleistungen für Privat- und Geschäftskunden an und ist Teil der internationalen Generali Group. Das Unternehmen hat rund 17.000 Mitarbeiter und betreut mehr als 13 Millionen Kunden in Deutschland. Es gehört zu den größten Versicherungsunternehmen in Deutschland und zu den Top 10 weltweit.\n",
      "Human: Nutze noch weniger Worte\n",
      "AI:\u001b[0m\n",
      "\n",
      "\u001b[1m> Finished chain.\u001b[0m\n",
      "\n",
      "\n",
      "\u001b[1m> Entering new ConversationChain chain...\u001b[0m\n",
      "Prompt after formatting:\n",
      "\u001b[32;1m\u001b[1;3mThe following is a friendly conversation between a human and an AI. The AI is talkative and provides lots of specific details from its context. If the AI does not know the answer to a question, it truthfully says it does not know.\n",
      "\n",
      "Current conversation:\n",
      "Human: Beschreibe die Generali Deutschland AG\n",
      "AI:  Die Generali Deutschland AG ist ein deutsches Versicherungsunternehmen mit Hauptsitz in München. Sie wurde 1824 gegründet und ist Teil der internationalen Generali Group, die in über 50 Ländern tätig ist. Die Generali Deutschland AG bietet ein breites Spektrum an Versicherungs- und Finanzdienstleistungen für Privat- und Geschäftskunden an. Dazu gehören unter anderem Lebensversicherungen, Krankenversicherungen, Haftpflichtversicherungen und Altersvorsorgeprodukte. Das Unternehmen beschäftigt rund 17.000 Mitarbeiter und betreut mehr als 13 Millionen Kunden in Deutschland. Es ist eines der größten Versicherungsunternehmen in Deutschland und gehört zu den Top 10 der Branche weltweit.\n",
      "Human: Benutze weniger Worte für die Beschreibung\n",
      "AI:  Die Generali Deutschland AG ist ein deutsches Versicherungsunternehmen mit Sitz in München. Es bietet eine Vielzahl von Versicherungs- und Finanzdienstleistungen für Privat- und Geschäftskunden an und ist Teil der internationalen Generali Group. Das Unternehmen hat rund 17.000 Mitarbeiter und betreut mehr als 13 Millionen Kunden in Deutschland. Es gehört zu den größten Versicherungsunternehmen in Deutschland und zu den Top 10 weltweit.\n",
      "Human: Nutze noch weniger Worte\n",
      "AI:  Die Generali Deutschland AG ist ein deutsches Versicherungsunternehmen mit Sitz in München. Es bietet Versicherungs- und Finanzdienstleistungen für Privat- und Geschäftskunden an und ist Teil der internationalen Generali Group. Es hat rund 17.000 Mitarbeiter und betreut mehr als 13 Millionen Kunden in Deutschland.\n",
      "Human: Was war die erste Frage?\n",
      "AI:\u001b[0m\n",
      "\n",
      "\u001b[1m> Finished chain.\u001b[0m\n"
     ]
    },
    {
     "data": {
      "text/plain": [
       "' Die erste Frage war \"Beschreibe die Generali Deutschland AG\".'"
      ]
     },
     "execution_count": 11,
     "metadata": {},
     "output_type": "execute_result"
    }
   ],
   "source": [
    "buffer_chain.predict(input=\"Beschreibe die Generali Deutschland AG\")\n",
    "buffer_chain.predict(input=\"Benutze weniger Worte für die Beschreibung\")\n",
    "buffer_chain.predict(input=\"Nutze noch weniger Worte\")\n",
    "buffer_chain.predict(input=\"Was war die erste Frage?\")"
   ]
  },
  {
   "cell_type": "markdown",
   "metadata": {},
   "source": [
    "## ConversationSummaryMemory"
   ]
  },
  {
   "cell_type": "code",
   "execution_count": 12,
   "metadata": {},
   "outputs": [],
   "source": [
    "from langchain.memory import ConversationSummaryMemory"
   ]
  },
  {
   "cell_type": "code",
   "execution_count": 13,
   "metadata": {},
   "outputs": [],
   "source": [
    "chat = OpenAI(\n",
    "    model_name=\"gpt-3.5-turbo-instruct\", \n",
    "    temperature=0, \n",
    "    openai_api_key=api_key\n",
    ")\n",
    "\n",
    "memory = ConversationSummaryMemory(\n",
    "    llm=OpenAI(\n",
    "        model_name=\"gpt-3.5-turbo-instruct\",\n",
    "        openai_api_key=api_key\n",
    "    )\n",
    ")\n",
    "summary_chain = ConversationChain(llm=chat, memory=memory, verbose=True)"
   ]
  },
  {
   "cell_type": "code",
   "execution_count": 14,
   "metadata": {},
   "outputs": [
    {
     "name": "stdout",
     "output_type": "stream",
     "text": [
      "\n",
      "\n",
      "\u001b[1m> Entering new ConversationChain chain...\u001b[0m\n",
      "Prompt after formatting:\n",
      "\u001b[32;1m\u001b[1;3mThe following is a friendly conversation between a human and an AI. The AI is talkative and provides lots of specific details from its context. If the AI does not know the answer to a question, it truthfully says it does not know.\n",
      "\n",
      "Current conversation:\n",
      "\n",
      "Human: Warum ist die Generali die beste Versicherung auf dem deutschen Markt?\n",
      "AI:\u001b[0m\n",
      "\n",
      "\u001b[1m> Finished chain.\u001b[0m\n",
      "\n",
      "\n",
      "\u001b[1m> Entering new ConversationChain chain...\u001b[0m\n",
      "Prompt after formatting:\n",
      "\u001b[32;1m\u001b[1;3mThe following is a friendly conversation between a human and an AI. The AI is talkative and provides lots of specific details from its context. If the AI does not know the answer to a question, it truthfully says it does not know.\n",
      "\n",
      "Current conversation:\n",
      " The human asks why Generali is the best insurance on the German market. The AI explains that Generali has a long history of success in the insurance business, offering a wide range of insurance products such as life, health, property, and liability insurance. Generali also has strong financial stability and a track record of prompt and reliable payments in case of claims. Additionally, it has high customer satisfaction and has received numerous awards for its quality and service.\n",
      "Human: Bitte erkläre nochmal spezifischer, was die Generali auszeichnet\n",
      "AI:\u001b[0m\n",
      "\n",
      "\u001b[1m> Finished chain.\u001b[0m\n"
     ]
    },
    {
     "data": {
      "text/plain": [
       "' Natürlich, gerne erkläre ich es noch genauer. Generali hat eine lange Geschichte des Erfolgs in der Versicherungsbranche und bietet eine breite Palette an Versicherungsprodukten wie Lebens-, Kranken-, Sach- und Haftpflichtversicherungen an. Darüber hinaus hat Generali eine starke finanzielle Stabilität und eine Erfolgsbilanz von prompten und zuverlässigen Zahlungen im Falle von Schadensfällen. Auch hat es eine hohe Kundenzufriedenheit und hat zahlreiche Auszeichnungen für seine Qualität und Service erhalten.'"
      ]
     },
     "execution_count": 14,
     "metadata": {},
     "output_type": "execute_result"
    }
   ],
   "source": [
    "summary_chain.predict(input=\"Warum ist die Generali die beste Versicherung auf dem deutschen Markt?\")\n",
    "summary_chain.predict(input=\"Bitte erkläre nochmal spezifischer, was die Generali auszeichnet\")"
   ]
  },
  {
   "cell_type": "markdown",
   "metadata": {},
   "source": [
    "# LCEL - LangChain Expression Language"
   ]
  },
  {
   "cell_type": "code",
   "execution_count": 15,
   "metadata": {},
   "outputs": [],
   "source": [
    "from langchain_core.prompts import PromptTemplate\n",
    "from langchain.schema.output_parser import StrOutputParser"
   ]
  },
  {
   "cell_type": "code",
   "execution_count": 16,
   "metadata": {},
   "outputs": [],
   "source": [
    "model = ChatOpenAI(openai_api_key=api_key, temperature=0)\n",
    "\n",
    "geo_prompt = PromptTemplate.from_template(\n",
    "    \"\"\"Du bist ein Experte in Geographie. Beschreibe die Flagge des  Landes, nach dem Du gefragt wirst. Frage: {question}. Antwort: \"\"\"\n",
    ")\n",
    "\n",
    "translation_prompt = PromptTemplate.from_template(\n",
    "    \"\"\"Du bist ein Experte in Sprachen und Übersetzungen. Übersetze den folgenden Satz ins Englische: {answer}. Deine Übersetzung:\"\"\"\n",
    ")"
   ]
  },
  {
   "cell_type": "code",
   "execution_count": 17,
   "metadata": {},
   "outputs": [
    {
     "data": {
      "text/plain": [
       "'The flag of Germany consists of three horizontal stripes in the colors black, red, and gold. The colors are traditional and have a long history in Germany. The flag was first introduced in the 19th century and is now the official symbol of the country.'"
      ]
     },
     "execution_count": 17,
     "metadata": {},
     "output_type": "execute_result"
    }
   ],
   "source": [
    "chain = (\n",
    "    {\"answer\": geo_prompt | model | StrOutputParser()}\n",
    "    | translation_prompt\n",
    "    | model\n",
    "    | StrOutputParser()\n",
    ")\n",
    "\n",
    "chain.invoke({\"question\": \"Deutschland\"})"
   ]
  },
  {
   "cell_type": "markdown",
   "metadata": {},
   "source": [
    "# RAG - Chat with your own documents"
   ]
  },
  {
   "cell_type": "code",
   "execution_count": 24,
   "metadata": {},
   "outputs": [],
   "source": [
    "from pyprojroot import here\n",
    "from langchain_community.document_loaders import PyPDFLoader\n",
    "from langchain.text_splitter import RecursiveCharacterTextSplitter\n",
    "from langchain_openai import OpenAIEmbeddings\n",
    "from langchain_community.vectorstores import FAISS\n",
    "from langchain.chains import RetrievalQA"
   ]
  },
  {
   "cell_type": "code",
   "execution_count": 19,
   "metadata": {},
   "outputs": [
    {
     "name": "stdout",
     "output_type": "stream",
     "text": [
      "[Document(page_content='Schadensmeldung - Sturmschaden an Eigentum\\nEingangszeitpunkt: 23.02.2024 21:35:19\\nSehr geehrte Damen und Herren,\\nich wende mich an Sie, um einen Schaden zu melden, der durch den Sturm am 22.02.2024 an\\nmeinem Eigentum entstanden ist. Als Inhaber einer Hausratversicherung bei der Generali\\nDeutschland Versicherung, Vertragsnummer GH567890123, möchte ich den entstandenen\\nSchaden so schnell wie möglich bearbeitet wissen.\\nAm besagten Tag zog ein schwerer Sturm über unseren Wohnort, der zu erheblichen Schäden an\\nmeiner Wohnung im Kölner Süden, genauer in der Mainzer Straße 45, 50678 Köln, geführt hat.\\nHierbei wurden Fenster beschädigt, wodurch Wasser eindringen konnte und zu Schäden an\\nMöbeln, elektronischen Geräten und weiteren Hausratgegenständen führte.\\nFolgende Gegenstände sind betroffen:\\n- Wohnzimmertisch aus Eiche, Wasserschaden, geschätzter Zeitwert: 200EUR\\n- 55 Zoll Fernsehgerät, Marke Samsung, Wasserschaden, geschätzter Wiederbeschaffungswert:\\n800EUR\\n- Laptop, Marke Lenovo, Wasserschaden, geschätzter Wiederbeschaffungswert: 1200EUR\\n- Verschiedene Bücher und Dekorationsartikel, geschätzter Zeitwert: 150EUR\\nIch habe alle notwendigen Maßnahmen ergriffen, um weitere Schäden zu verhindern und die\\nSicherheit zu gewährleisten. Zudem liegen mir Fotos von den beschädigten Gegenständen und dem\\nSchaden vor, die ich Ihnen gerne zur Verfügung stelle, um den Schaden zu dokumentieren.\\nSeite 1', metadata={'source': '/Users/michael/Coding/langchain-experiments/schadenmeldung.pdf', 'page': 0}), Document(page_content='Schadensmeldung - Sturmschaden an Eigentum\\nIch bitte um eine schnelle Bearbeitung meiner Schadensmeldung und um Informationen über die\\nnächsten Schritte, die von meiner Seite aus erforderlich sind. Für Rückfragen stehe ich Ihnen\\nselbstverständlich zur Verfügung und bin unter meiner Telefonnummer 0221/1234567 oder per\\nE-Mail erreichbar.\\nVielen Dank für Ihre Unterstützung in dieser Angelegenheit.\\nMit freundlichen Grüßen,\\nMax Mustermann\\nMainzer Straße 45\\n50678 Köln\\nE-Mail: max.mustermann@email.de\\nTelefon: 0221/1234567\\nSeite 2', metadata={'source': '/Users/michael/Coding/langchain-experiments/schadenmeldung.pdf', 'page': 1})]\n"
     ]
    }
   ],
   "source": [
    "data = PyPDFLoader(str(here(\"./schadenmeldung.pdf\"))).load()\n",
    "print(data)"
   ]
  },
  {
   "cell_type": "code",
   "execution_count": 20,
   "metadata": {},
   "outputs": [
    {
     "name": "stdout",
     "output_type": "stream",
     "text": [
      "[Document(page_content='Schadensmeldung - Sturmschaden an Eigentum\\nEingangszeitpunkt: 23.02.2024 21:35:19', metadata={'source': '/Users/michael/Coding/langchain-experiments/schadenmeldung.pdf', 'page': 0}), Document(page_content='Sehr geehrte Damen und Herren,', metadata={'source': '/Users/michael/Coding/langchain-experiments/schadenmeldung.pdf', 'page': 0}), Document(page_content='ich wende mich an Sie, um einen Schaden zu melden, der durch den Sturm am 22.02.2024 an', metadata={'source': '/Users/michael/Coding/langchain-experiments/schadenmeldung.pdf', 'page': 0}), Document(page_content='meinem Eigentum entstanden ist. Als Inhaber einer Hausratversicherung bei der Generali', metadata={'source': '/Users/michael/Coding/langchain-experiments/schadenmeldung.pdf', 'page': 0}), Document(page_content='Deutschland Versicherung, Vertragsnummer GH567890123, möchte ich den entstandenen', metadata={'source': '/Users/michael/Coding/langchain-experiments/schadenmeldung.pdf', 'page': 0}), Document(page_content='Schaden so schnell wie möglich bearbeitet wissen.', metadata={'source': '/Users/michael/Coding/langchain-experiments/schadenmeldung.pdf', 'page': 0}), Document(page_content='Am besagten Tag zog ein schwerer Sturm über unseren Wohnort, der zu erheblichen Schäden an', metadata={'source': '/Users/michael/Coding/langchain-experiments/schadenmeldung.pdf', 'page': 0}), Document(page_content='meiner Wohnung im Kölner Süden, genauer in der Mainzer Straße 45, 50678 Köln, geführt hat.', metadata={'source': '/Users/michael/Coding/langchain-experiments/schadenmeldung.pdf', 'page': 0}), Document(page_content='Hierbei wurden Fenster beschädigt, wodurch Wasser eindringen konnte und zu Schäden an', metadata={'source': '/Users/michael/Coding/langchain-experiments/schadenmeldung.pdf', 'page': 0}), Document(page_content='Möbeln, elektronischen Geräten und weiteren Hausratgegenständen führte.', metadata={'source': '/Users/michael/Coding/langchain-experiments/schadenmeldung.pdf', 'page': 0}), Document(page_content='Folgende Gegenstände sind betroffen:', metadata={'source': '/Users/michael/Coding/langchain-experiments/schadenmeldung.pdf', 'page': 0}), Document(page_content='- Wohnzimmertisch aus Eiche, Wasserschaden, geschätzter Zeitwert: 200EUR', metadata={'source': '/Users/michael/Coding/langchain-experiments/schadenmeldung.pdf', 'page': 0}), Document(page_content='- 55 Zoll Fernsehgerät, Marke Samsung, Wasserschaden, geschätzter Wiederbeschaffungswert:\\n800EUR', metadata={'source': '/Users/michael/Coding/langchain-experiments/schadenmeldung.pdf', 'page': 0}), Document(page_content='800EUR\\n- Laptop, Marke Lenovo, Wasserschaden, geschätzter Wiederbeschaffungswert: 1200EUR', metadata={'source': '/Users/michael/Coding/langchain-experiments/schadenmeldung.pdf', 'page': 0}), Document(page_content='- Verschiedene Bücher und Dekorationsartikel, geschätzter Zeitwert: 150EUR', metadata={'source': '/Users/michael/Coding/langchain-experiments/schadenmeldung.pdf', 'page': 0}), Document(page_content='Ich habe alle notwendigen Maßnahmen ergriffen, um weitere Schäden zu verhindern und die', metadata={'source': '/Users/michael/Coding/langchain-experiments/schadenmeldung.pdf', 'page': 0}), Document(page_content='Sicherheit zu gewährleisten. Zudem liegen mir Fotos von den beschädigten Gegenständen und dem', metadata={'source': '/Users/michael/Coding/langchain-experiments/schadenmeldung.pdf', 'page': 0}), Document(page_content='Schaden vor, die ich Ihnen gerne zur Verfügung stelle, um den Schaden zu dokumentieren.\\nSeite 1', metadata={'source': '/Users/michael/Coding/langchain-experiments/schadenmeldung.pdf', 'page': 0}), Document(page_content='Schadensmeldung - Sturmschaden an Eigentum', metadata={'source': '/Users/michael/Coding/langchain-experiments/schadenmeldung.pdf', 'page': 1}), Document(page_content='Ich bitte um eine schnelle Bearbeitung meiner Schadensmeldung und um Informationen über die', metadata={'source': '/Users/michael/Coding/langchain-experiments/schadenmeldung.pdf', 'page': 1}), Document(page_content='nächsten Schritte, die von meiner Seite aus erforderlich sind. Für Rückfragen stehe ich Ihnen', metadata={'source': '/Users/michael/Coding/langchain-experiments/schadenmeldung.pdf', 'page': 1}), Document(page_content='selbstverständlich zur Verfügung und bin unter meiner Telefonnummer 0221/1234567 oder per', metadata={'source': '/Users/michael/Coding/langchain-experiments/schadenmeldung.pdf', 'page': 1}), Document(page_content='E-Mail erreichbar.\\nVielen Dank für Ihre Unterstützung in dieser Angelegenheit.', metadata={'source': '/Users/michael/Coding/langchain-experiments/schadenmeldung.pdf', 'page': 1}), Document(page_content='Mit freundlichen Grüßen,\\nMax Mustermann\\nMainzer Straße 45\\n50678 Köln', metadata={'source': '/Users/michael/Coding/langchain-experiments/schadenmeldung.pdf', 'page': 1}), Document(page_content='50678 Köln\\nE-Mail: max.mustermann@email.de\\nTelefon: 0221/1234567\\nSeite 2', metadata={'source': '/Users/michael/Coding/langchain-experiments/schadenmeldung.pdf', 'page': 1})]\n"
     ]
    }
   ],
   "source": [
    "splitter = RecursiveCharacterTextSplitter(\n",
    "    chunk_size=100,\n",
    "    chunk_overlap=25,\n",
    ")\n",
    "\n",
    "docs = splitter.split_documents(data)\n",
    "print(docs)"
   ]
  },
  {
   "cell_type": "code",
   "execution_count": 21,
   "metadata": {},
   "outputs": [],
   "source": [
    "embedding_function = OpenAIEmbeddings(openai_api_key=api_key)\n",
    "\n",
    "vectordb = FAISS.from_documents(\n",
    "    docs,\n",
    "    embedding_function,\n",
    ")\n",
    "\n",
    "vectordb.save_local(str(here(\"./\")))"
   ]
  },
  {
   "cell_type": "code",
   "execution_count": 25,
   "metadata": {},
   "outputs": [],
   "source": [
    "qa = RetrievalQA.from_chain_type(\n",
    "        llm=OpenAI(\n",
    "            model_name=\"gpt-3.5-turbo-instruct\",\n",
    "            temperature=0,\n",
    "            openai_api_key=api_key\n",
    "        ), \n",
    "        chain_type=\"stuff\", \n",
    "        retriever=vectordb.as_retriever()\n",
    "    )"
   ]
  },
  {
   "cell_type": "code",
   "execution_count": 26,
   "metadata": {},
   "outputs": [
    {
     "name": "stderr",
     "output_type": "stream",
     "text": [
      "/Users/michael/Library/Caches/pypoetry/virtualenvs/langchain-experiments-SQAeIdRz-py3.11/lib/python3.11/site-packages/langchain_core/_api/deprecation.py:117: LangChainDeprecationWarning: The function `run` was deprecated in LangChain 0.1.0 and will be removed in 0.2.0. Use invoke instead.\n",
      "  warn_deprecated(\n"
     ]
    },
    {
     "name": "stdout",
     "output_type": "stream",
     "text": [
      " Der Schaden ist am 23.02.2024 um 21:35:19 entstanden.\n"
     ]
    }
   ],
   "source": [
    "query = \"Wann ist der Schaden entstanden?\"\n",
    "\n",
    "print(qa.run(query))"
   ]
  },
  {
   "cell_type": "code",
   "execution_count": 32,
   "metadata": {},
   "outputs": [
    {
     "name": "stdout",
     "output_type": "stream",
     "text": [
      " Die Meldung ist am 23.02.2024 um 21:35:19 eingegangen.\n",
      " Das Dokument beinhaltet eine Schadensmeldung für einen Sturmschaden an Eigentum, der zu Schäden an Möbeln, elektronischen Geräten und weiteren Hausratgegenständen geführt hat.\n",
      " Das Datum, an dem der Sturmschaden an dem Eigentum entstanden ist, ist nicht angegeben. Es kann das gleiche Datum wie das Eingangsdatum der Schadenmeldung sein oder ein anderes Datum. Es ist nicht eindeutig aus dem gegebenen Kontext ersichtlich.\n",
      " Sturm\n",
      " Der Sturm war am 22.02.2024.\n"
     ]
    }
   ],
   "source": [
    "print(qa.run(\"Wann ist die Meldung eingegangen?\"))\n",
    "print(qa.run(\"Fasse den Inhalt des Dokuments in einem Satz zusammen\"))\n",
    "print(qa.run(\"Frage: An welchem Datum ist der Schaden entstaden? Hinweis: Es kann das gleiche Datum wie das Eingangsdatum der Schadenmeldung sein, es kann jedoch auch ein anderes Datum sein. Gesucht wird das Datum, an dem tatsächlich etwas beschädigt wurde.\"))\n",
    "print(qa.run(\"In welche Kategorie passt die Meldung am besten? Sturm, Leitungswasser, Elementar, Einbruch, Diebstahl, Feuer, Sonstiges\"))\n",
    "print(qa.run(\"An welchem Datum war der Sturm, durch den der Schaden entstanden ist?\"))\n",
    "\n"
   ]
  }
 ],
 "metadata": {
  "kernelspec": {
   "display_name": "langchain-experiments-SQAeIdRz-py3.11",
   "language": "python",
   "name": "python3"
  },
  "language_info": {
   "codemirror_mode": {
    "name": "ipython",
    "version": 3
   },
   "file_extension": ".py",
   "mimetype": "text/x-python",
   "name": "python",
   "nbconvert_exporter": "python",
   "pygments_lexer": "ipython3",
   "version": "3.11.4"
  }
 },
 "nbformat": 4,
 "nbformat_minor": 2
}
